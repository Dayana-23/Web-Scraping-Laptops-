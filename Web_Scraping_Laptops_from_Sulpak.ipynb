{
  "cells": [
    {
      "cell_type": "markdown",
      "metadata": {
        "id": "betjLKw8IFzY"
      },
      "source": [
        "# ✤ HW-3 is done by student of Astana IT University, 2 course, BDA-1903 group"
      ]
    },
    {
      "cell_type": "markdown",
      "metadata": {
        "id": "8Dn4ysRrIFzc"
      },
      "source": [
        "### Task:\n",
        "Scrape any data you are interested in using Python.\n",
        "1. Short report or presentation about your task and web page.  \n",
        "2.  python code on jupyter notebook\n",
        "3. the results. \n"
      ]
    },
    {
      "cell_type": "markdown",
      "metadata": {
        "id": "S4DZv9hkIFzd"
      },
      "source": [
        "## ✤ Report on my topic"
      ]
    },
    {
      "cell_type": "markdown",
      "metadata": {
        "id": "mVn_hvJpIFze"
      },
      "source": [
        "~ Welcome! The website, that I have chosen is Sulpak. Actually, I could choose any website, because, I wanted to scrap data about laptops. This web page is well designed, and colorful. And the main thing, is using HTML divs,spans,li,ul.\n",
        "+ First reason, was that I'm going to buy laptop,that's why I took this topic.\n",
        "+ Second reason, was that as I'm a programmer, I must know everything about computers,laptops,devices structure and characteristics.\n",
        "+ Thirdly, there will be some statictical analysis of laptops in general.\n",
        "+ Finally, here you will see more exactly which brand is demanded, current prices of laptops in Kazakhstan at the moment.\n",
        "\n",
        "~ ✤ I suppose, it would be good practice and new experience for all of us."
      ]
    },
    {
      "cell_type": "markdown",
      "metadata": {
        "id": "5P99CDcGIFzf"
      },
      "source": [
        "✤ Here, I'm importing important libraries, that I will need in further manipulations with data."
      ]
    },
    {
      "cell_type": "code",
      "execution_count": null,
      "metadata": {
        "id": "BPkO_aGaIFzg"
      },
      "outputs": [],
      "source": [
        "# IMPORTING libraries:\n",
        "from bs4 import BeautifulSoup \n",
        "import requests\n",
        "from requests import get"
      ]
    },
    {
      "cell_type": "code",
      "execution_count": null,
      "metadata": {
        "id": "G4freZptIFzi"
      },
      "outputs": [],
      "source": [
        "url = 'https://www.sulpak.kz/f/noutbuki'\n",
        "requestt = requests.get(url)"
      ]
    },
    {
      "cell_type": "code",
      "execution_count": null,
      "metadata": {
        "id": "k6IxToHWIFzi",
        "outputId": "00a16674-407a-40ea-85db-3b8871dd4d7a"
      },
      "outputs": [
        {
          "name": "stdout",
          "output_type": "stream",
          "text": [
            "200\n"
          ]
        }
      ],
      "source": [
        "print(requestt.status_code) # Success! The page has loaded correctly"
      ]
    },
    {
      "cell_type": "code",
      "execution_count": null,
      "metadata": {
        "id": "fbOA8DXTIFzk"
      },
      "outputs": [],
      "source": [
        "import time\n",
        "import random"
      ]
    },
    {
      "cell_type": "code",
      "execution_count": null,
      "metadata": {
        "id": "9kLmjKiIIFzk"
      },
      "outputs": [],
      "source": [
        "#Importing 'must-have' Libraries like these:\n",
        "import pandas as pd\n",
        "import numpy as np  # to access data in any formats.\n",
        "import matplotlib.pyplot as plt # to plot"
      ]
    },
    {
      "cell_type": "code",
      "execution_count": null,
      "metadata": {
        "id": "uQ31tYBrIFzl",
        "outputId": "253ff119-20bd-49b8-8b05-7b9916b36fe1"
      },
      "outputs": [
        {
          "name": "stdout",
          "output_type": "stream",
          "text": [
            "https://www.sulpak.kz/f/noutbuki?page=1\n",
            "1.4376116523291684\n",
            "https://www.sulpak.kz/f/noutbuki?page=2\n",
            "3.4817889243306284\n",
            "https://www.sulpak.kz/f/noutbuki?page=3\n",
            "3.5838999820367525\n",
            "https://www.sulpak.kz/f/noutbuki?page=4\n",
            "1.516075701173834\n",
            "124\n",
            "<li class=\"tile-container\" data-brand=\"Acer\" data-code=\"462684\" data-list=\"Ноутбуки\" data-name=\"Ноутбук Acer Nitro 5 AN515-55-50CH (NH.Q7MER.005)\" data-price=\"379990.0\">\n",
            "<div class=\"goods-tiles\">\n",
            "<div class=\"product-container-left-side\">\n",
            "<div class=\"goods-photo\">\n",
            "<a data-product-id=\"462684\" href=\"/g/noutbuk__nitro_5_an515_55_50ch_i585gn_nh_q7mer_005_62_1878\" onmousedown=\"try { evinentLib.analyze(this) } catch (_) { }\">\n",
            "<div>\n",
            "<picture>\n",
            "<source srcset=\"https://object.pscloud.io/cms/cms/Photo/img_0_62_1878_0_1_160.webp\" type=\"image/webp\"/>\n",
            "<source srcset=\"https://object.pscloud.io/cms/cms/Photo/img_0_62_1878_0_1_160.jpg\" type=\"image/jpg\"/>\n",
            "<img alt=\"Ноутбук Acer Nitro 5 AN515-55-50CH (NH.Q7MER.005)\" loading=\"lazy\" src=\"https://object.pscloud.io/cms/cms/Photo/img_0_62_1878_0_1.jpg\" title=\"Ноутбук Acer Nitro 5 AN515-55-50CH (NH.Q7MER.005)\"/>\n",
            "</picture>\n",
            "</div>\n",
            "</a>\n",
            "<div class=\"rating-container r-con\">\n",
            "<a aria-label=\"go to the comments page\" class=\"rating-container starts-to-comments\" data-product-id=\"462684\" href=\"/g/noutbuk__nitro_5_an515_55_50ch_i585gn_nh_q7mer_005_62_1878#commentsTab\" onmousedown=\"try { evinentLib.analyze(this) } catch (_) { }\">\n",
            "<i aria-hidden=\"true\" class=\"fa fa-star active\"></i>\n",
            "<i aria-hidden=\"true\" class=\"fa fa-star active\"></i>\n",
            "<i aria-hidden=\"true\" class=\"fa fa-star active\"></i>\n",
            "<i aria-hidden=\"true\" class=\"fa fa-star active\"></i>\n",
            "<i aria-hidden=\"true\" class=\"fa fa-star\"></i>\n",
            "</a>\n",
            "<span class=\"coments-quantity\">6 отзывов</span>\n",
            "</div>\n",
            "</div>\n",
            "<div class=\"tape-container goods-tapes\">\n",
            "<div class=\"tape offer-tip special-offer-tooltip\" data-offer-id=\"4756\" style=\"background: #e3000f\">\n",
            "<p>Оплати кэшбеком до 18 999 тг</p>\n",
            "<span class=\"tooltiptext\"></span>\n",
            "</div>\n",
            "<div class=\"tape offer-tip special-offer-tooltip\" data-offer-id=\"4887\" style=\"background: #3a6dcc\">\n",
            "<p>Каскадные скидки</p>\n",
            "<span class=\"tooltiptext\"></span>\n",
            "</div>\n",
            "<div class=\"tape offer-tip special-offer-tooltip\" data-offer-id=\"4434\" style=\"background: #d71a21\">\n",
            "<p>Рассрочка 0-0-24</p>\n",
            "<span class=\"tooltiptext\"></span>\n",
            "</div>\n",
            "</div>\n",
            "<div class=\"tile-bottom-mobile\">\n",
            "<div class=\"to-wish-list\" data-nonauthorized=\"1\" data-product-id=\"62_1878\" onmousedown=\"try { evinentLib.analyzeFavorite(this); } catch (_) { }\" title=\"Добавить в список желаний\">\n",
            "<div title=\"Добавить в список желаний\">\n",
            "<i aria-hidden=\"true\" class=\"fa shared-wish-list-fa\"></i>\n",
            "<div class=\"good-additional-buttons-text\">В избранное</div>\n",
            "</div>\n",
            "</div>\n",
            "<div class=\"divider wish-list-divider\"></div>\n",
            "<div class=\"comparison-bttn\" data-addurl=\"/Comparison/AddToComparisonPreview?objectId=1878&amp;classId=62\" data-product-id=\"62_1878\" data-removeurl=\"/Comparison/RemoveFromComparisonPreview?objectId=1878&amp;classId=62\" onmousedown=\"try { evinentLib.analyzeComparison(this); } catch (_) { }\" title=\"Добавить в сравнение\">\n",
            "<div title=\"Добавить в сравнение\">\n",
            "<i aria-hidden=\"true\" class=\"fa fa-balance-scale shared-comparison-fa\"></i>\n",
            "<div class=\"good-additional-buttons-text\">Сравнить</div>\n",
            "</div>\n",
            "</div>\n",
            "<div class=\"additional-divider divider wish-list-divider show-disabled\"></div>\n",
            "<div class=\"show-comaparison show-disabled\" data-compare=\"/Compare/62\" data-url=\"/Comparison/RetrieveGoodsCount?classId=62\" title=\"Перейти к сравнению\">\n",
            "<div class=\"fa-block comparison-fa-block\">\n",
            "<sup class=\"sub-count fa-block-content fa-sep\">0</sup>\n",
            "<div> </div>\n",
            "<i aria-hidden=\"true\" class=\"fa fa-bar-chart fa-block-content shared-to-comparison-fa\"></i>\n",
            "</div>\n",
            "<div class=\"comparison-text\" title=\"Перейти к сравнению\">\n",
            "<div class=\"good-additional-buttons-text\">К сравнению</div>\n",
            "</div>\n",
            "</div> </div>\n",
            "</div>\n",
            "<div class=\"product-container-right-side\">\n",
            "<a data-product-id=\"462684\" href=\"/g/noutbuk__nitro_5_an515_55_50ch_i585gn_nh_q7mer_005_62_1878\" onmousedown=\"try { evinentLib.analyze(this) } catch (_) { }\">\n",
            "<h3 class=\"title\">\n",
            "                                Ноутбук Acer Nitro 5 AN515-55-50CH (NH.Q7MER.005)\n",
            "                            </h3>\n",
            "</a>\n",
            "<div class=\"price-block\">\n",
            "<div class=\"price\"><span>379 990 тг</span></div>\n",
            "</div>\n",
            "<span class=\"availability\">Есть в наличии</span>\n",
            "<span class=\"code\">Код товара: 462684</span>\n",
            "<div class=\"goods-info\">\n",
            "<div class=\"goods-info-inner\">\n",
            "<div class=\"special-bttns\">\n",
            "<div class=\"new-credit-buttons-block\" sulpak-visibility=\"\">\n",
            "<button class=\"credit pink-btn bg-transition show-credit-popup credit-btn all-uppercase-letters left-46\" data-code=\"462684\" data-is-special-offer=\"False\" data-offer-id=\"0\" data-product-codes=\"\" data-url=\"/ShoppingCartCreditPayments/CreditButtons\">\n",
            "        В КРЕДИТ\n",
            "    </button>\n",
            "<div class=\"new-credit-btns\"></div>\n",
            "</div>\n",
            "<div class=\"red-btn bg-transition buy-btn enhancement-ecommers-buy buy-btn-right\" data-add-gifts-auto=\"False\" data-brand=\"Acer\" data-city-title=\"Алматы\" data-code=\"462684\" data-gifts=\"\" data-name=\"Ноутбук Acer Nitro 5 AN515-55-50CH (NH.Q7MER.005)\" data-price=\"379990.0\" data-url=\"/ShoppingCart/AddToCart?classId=62&amp;goodId=1878\" data-url-add-gifts=\"/ShoppingCart/AddOrderItemGifts\" data-url-popup=\"/ShoppingCartPopup/ShoppingCartPopup\" onmousedown=\"rocketBuyButtonTracker(462684, this)\">\n",
            "\n",
            "        Купить\n",
            "    </div>\n",
            "</div>\n",
            "<div class=\"goods-bonus\">\n",
            "<picture>\n",
            "<source srcset=\"https://cms.object.pscloud.io/wwwroot/img/bonus-icon.webp\" type=\"image/webp\"/>\n",
            "<source srcset=\"https://cms.object.pscloud.io/wwwroot/img/bonus-icon.png\" type=\"image/png\"/>\n",
            "<img alt=\"icon bonus\" loading=\"lazy\" src=\"https://cms.object.pscloud.io/wwwroot/img/bonus-icon.png\"/>\n",
            "</picture>\n",
            "<span>0</span>\n",
            "<i class=\"fa fa-question-circle tooltip\">\n",
            "<span class=\"tooltiptext\" data-title=\"Каскадные скидки\" data-type=\"textRes_bonus_0\" data-url=\"/Stocks/Action/4887/kaskadniye_skidki\">\n",
            "</span>\n",
            "</i>\n",
            "</div>\n",
            "<div class=\"tile-bottom\">\n",
            "<div class=\"to-wish-list\" data-nonauthorized=\"1\" data-product-id=\"62_1878\" onmousedown=\"try { evinentLib.analyzeFavorite(this); } catch (_) { }\" title=\"Добавить в список желаний\">\n",
            "<div title=\"Добавить в список желаний\">\n",
            "<i aria-hidden=\"true\" class=\"fa shared-wish-list-fa\"></i>\n",
            "<div class=\"good-additional-buttons-text\">В избранное</div>\n",
            "</div>\n",
            "</div>\n",
            "<div class=\"divider wish-list-divider\"></div>\n",
            "<div class=\"comparison-bttn\" data-addurl=\"/Comparison/AddToComparisonPreview?objectId=1878&amp;classId=62\" data-product-id=\"62_1878\" data-removeurl=\"/Comparison/RemoveFromComparisonPreview?objectId=1878&amp;classId=62\" onmousedown=\"try { evinentLib.analyzeComparison(this); } catch (_) { }\" title=\"Добавить в сравнение\">\n",
            "<div title=\"Добавить в сравнение\">\n",
            "<i aria-hidden=\"true\" class=\"fa fa-balance-scale shared-comparison-fa\"></i>\n",
            "<div class=\"good-additional-buttons-text\">Сравнить</div>\n",
            "</div>\n",
            "</div>\n",
            "<div class=\"additional-divider divider wish-list-divider show-disabled\"></div>\n",
            "<div class=\"show-comaparison show-disabled\" data-compare=\"/Compare/62\" data-url=\"/Comparison/RetrieveGoodsCount?classId=62\" title=\"Перейти к сравнению\">\n",
            "<div class=\"fa-block comparison-fa-block\">\n",
            "<sup class=\"sub-count fa-block-content fa-sep\">0</sup>\n",
            "<div> </div>\n",
            "<i aria-hidden=\"true\" class=\"fa fa-bar-chart fa-block-content shared-to-comparison-fa\"></i>\n",
            "</div>\n",
            "<div class=\"comparison-text\" title=\"Перейти к сравнению\">\n",
            "<div class=\"good-additional-buttons-text\">К сравнению</div>\n",
            "</div>\n",
            "</div> </div>\n",
            "<div class=\"good-offers\">\n",
            "<div class=\"good-offers-title\">Акции:</div>\n",
            "<div class=\"good-offers-content\">\n",
            "<div class=\"offer-tip offer-icon tooltip unpacking-tooltip\">\n",
            "<img alt=\"unpacking-box-icon\" aria-hidden=\"True\" class=\"unpacking-box-icon\" src=\"https://object.pscloud.io/cms/cms/Content/unpacking-box-icon-30-30.png\"/>\n",
            "<div class=\"tooltiptext\"></div>\n",
            "</div>\n",
            "<div class=\"offer-tip offer-icon tooltip special-offer-tooltip\" data-offer-id=\"4423\">\n",
            "<picture>\n",
            "<source srcset=\"https://object.pscloud.io/cms/cms/SpecialOffers/img_4423_3_12.webp\" type=\"image/webp\"/>\n",
            "<source srcset=\"https://object.pscloud.io/cms/cms/SpecialOffers/img_4423_3_12.png\" type=\"image/png\"/>\n",
            "<img alt=\"Рассрочка 0-0-24 от Home Credit Bank\" loading=\"lazy\" src=\"https://object.pscloud.io/cms/cms/SpecialOffers/img_4423_3_12.png\">\n",
            "</img></picture>\n",
            "<div class=\"tooltiptext\"></div>\n",
            "</div>\n",
            "</div>\n",
            "</div>\n",
            "</div>\n",
            "</div>\n",
            "</div>\n",
            "</div>\n",
            "</li>\n",
            "\n",
            "('Ноутбук Acer Nitro 5 AN515-55-50CH (NH.Q7MER.005)', 'Acer', '379990.0', '462684', 'Есть в наличии', '6 отзывов', 'Ноутбуки')\n",
            "('Ультрабук Acer Swift 1 SF114-32-C6XS (NX.GXVER.001) Sparkly Silver', 'Acer', '184990.0', '308826', 'Есть в наличии', '4 отзывов', 'Ноутбуки')\n",
            "('Ноутбук Acer Aspire 3 A315-56 I341TUN (NX.HS5ER.00V)', 'Acer', '189990.0', '473386', 'Есть в наличии', '1 отзывов', 'Ноутбуки')\n",
            "('Ноутбук Lenovo IdeaPad Gaming 3 I781T1SGN (81Y400NTRK)', 'Lenovo', '409990.0', '463064', 'Есть в наличии', '4 отзывов', 'Ноутбуки')\n",
            "('Ноутбук Acer Aspire 7 Gaming  A715-75G-701Q (NH.Q87ER.00F)', 'Acer', '439990.0', '462675', 'Есть в наличии', '3 отзывов', 'Ноутбуки')\n",
            "('Ноутбук Apple MacBook Air 13″ (2020) i3 1,1/8Gb/256GB SSD Space Gray (MWTJ2)', 'Apple', '519090.0', '460038', 'Есть в наличии', '2 отзывов', 'Ноутбуки')\n",
            "('Ноутбук Apple MacBook Air 13″ (2020) i5 1,1/8Gb/512GB SSD Space Gray (MVH22)', 'Apple', '652790.0', '460041', 'Есть в наличии', '0 отзывов', 'Ноутбуки')\n",
            "('Ноутбук Acer Nitro 5 AN515-44-R329 (NH.Q9GER.006)', 'Acer', '379990.0', '462690', 'Товар на витрине', '1 отзывов', 'Ноутбуки')\n",
            "('Ноутбук Acer Aspire 3 A315-34 C41TUW (NX.HE3ER.011)', 'Acer', '169990.0', '473381', 'Есть в наличии', '0 отзывов', 'Ноутбуки')\n",
            "('Ноутбук Apple MacBook Air 13″ (2020) i3 1,1/8Gb/256GB SSD Gold (MWTL2)', 'Apple', '519290.0', '460040', 'Товар на витрине', '1 отзывов', 'Ноутбуки')\n",
            "('Ноутбук Asus Laptop 15 X509J (90NB0QE2-M04160)', 'Asus', '199990.0', '463045', 'Товар на витрине', '0 отзывов', 'Ноутбуки')\n",
            "('Ноутбук Lenovo Ideapad S145-15IIL (81W800KNRK)', 'Lenovo', '219990.0', '456852', 'Есть в наличии', '0 отзывов', 'Ноутбуки')\n",
            "('Ноутбук Asus TUF Gaming FA506I R585GN (90NR03M2-M04110)', 'Asus', '419990.0', '463051', 'Товар на витрине', '0 отзывов', 'Ноутбуки')\n",
            "('Ноутбук Asus E Gaming X571G (90NB0NL1-M11960)', 'Asus', '329990.0', '463042', 'Есть в наличии', '0 отзывов', 'Ноутбуки')\n",
            "('Ноутбук Apple MacBook Air 13″ (2020) i3 1,1/8Gb/256GB SSD Silver (MWTK2)', 'Apple', '519890.0', '460039', 'Есть в наличии', '1 отзывов', 'Ноутбуки')\n",
            "('Ноутбук Acer Aspire 3 A315-23G-R029 A85MW (NX.HVRER.00F)', 'Acer', '219990.0', '462659', 'Есть в наличии', '3 отзывов', 'Ноутбуки')\n",
            "('Ноутбук Apple MacBook Pro 16\" i9 2.3/16/1TB SSD Space Grey (MVVK2)', 'Apple', '1510290.0', '421297', 'Товар на витрине', '2 отзывов', 'Ноутбуки')\n",
            "('Ноутбук Lenovo IdeaPad 5 15IIL05 I342UW (81YK00PKRK)', 'Lenovo', '249990.0', '463073', 'Есть в наличии', '0 отзывов', 'Ноутбуки')\n",
            "('Ноутбук Acer Predator Helios 300 PH315-53-53Z7 (NH.Q7YER.007)', 'Acer', '559990.0', '462680', 'Товар на витрине', '1 отзывов', 'Ноутбуки')\n",
            "('Ноутбук Lenovo IdeaPad Gaming 3 I781T1SGN (81Y400NVRK)', 'Lenovo', '429990.0', '463069', 'Есть в наличии', '0 отзывов', 'Ноутбуки')\n",
            "('Ноутбук Lenovo IdeaPad Gaming 3 I581T1GN (81Y400NWRK)', 'Lenovo', '349990.0', '463068', 'Есть в наличии', '1 отзывов', 'Ноутбуки')\n",
            "('Ноутбук Apple MacBook Pro 16\" Space Grey (MVVJ2)', 'Apple', '1294290.0', '421295', 'Есть в наличии', '0 отзывов', 'Ноутбуки')\n",
            "('Ноутбук Acer Predator Triton 300 PT315-52-58EU (NH.Q7BER.004)', 'Acer', '599990.0', '462676', 'Есть в наличии', '0 отзывов', 'Ноутбуки')\n",
            "('Ноутбук Acer Swift 3 SF314-57-34H1 I382UW (NX.HJ5ER.001)', 'Acer', '259990.0', '462669', 'Товар на витрине', '0 отзывов', 'Ноутбуки')\n",
            "('Ноутбук Asus TUF Gaming FX505GT (90NR02M2-M03250)', 'Asus', '349990.0', '474552', 'Есть в наличии', '0 отзывов', 'Ноутбуки')\n",
            "('Ноутбук Acer Nitro 5 AN515-44 R585SGN (NH.Q9HER.007)', 'DXRacer', '379990.0', '475487', 'Есть в наличии', '1 отзывов', 'Ноутбуки')\n",
            "('Ультрабук Asus VivoBook 14 X412FA-EB1219T I342SUW (90NB0L92-M18340)', 'Asus', '239990.0', '467037', 'Есть в наличии', '0 отзывов', 'Ноутбуки')\n",
            "('Ноутбук Asus Laptops 15 X509J (90NB0QD2-M05690)', 'Asus', '239990.0', '475541', 'Есть в наличии', '0 отзывов', 'Ноутбуки')\n",
            "('Ультрабук Lenovo IdeaPad 5 14IIL05 (81YH00KERK)', 'Lenovo', '269990.0', '463075', 'Есть в наличии', '1 отзывов', 'Ноутбуки')\n",
            "('Ноутбук Asus Rog Strix G512L  (90NR0351-M04890)', 'Asus', '479990.0', '475539', 'Товар на витрине', '0 отзывов', 'Ноутбуки')\n",
            "('Ноутбук Acer Aspire 3 A315-56-37KC I345UN (NX.HS5ER.018)', 'Acer', '189990.0', '462663', 'Товар на витрине', '0 отзывов', 'Ноутбуки')\n",
            "('Ноутбук Apple MacBook Pro 13 2020 Space Grey (MXK52)', 'Apple', '842990.0', '460437', 'Есть в наличии', '0 отзывов', 'Ноутбуки')\n",
            "('Ноутбук Acer Swift 1 SF114-32 Silver (NX.GXUER.00B)', 'Acer', '219990.0', '427031', 'Есть в наличии', '0 отзывов', 'Ноутбуки')\n",
            "('Ноутбук Asus Vivobook S403F (90NB0LP2-M06800)', 'Asus', '399990.0', '456811', 'Товар на витрине', '0 отзывов', 'Ноутбуки')\n",
            "('Ноутбук Apple MacBook Air 13″ (2020) i5 1,1/8Gb/512GB SSD Silver (MVH42)', 'Apple', '730990.0', '460042', 'Товар на витрине', '0 отзывов', 'Ноутбуки')\n",
            "('Ноутбук Asus E410M P41UW (90NB0Q11-M09810)', 'Asus', '179990.0', '463048', 'Есть в наличии', '0 отзывов', 'Ноутбуки')\n",
            "('Ноутбук Apple MacBook Pro 13 2020 Space Grey (MWP42)', 'Apple', '899090.0', '460439', 'Есть в наличии', '0 отзывов', 'Ноутбуки')\n",
            "('Ноутбук Asus E Gaming X571G I585SGN (90NB0NL1-M11970)', 'Asus', '329990.0', '463046', 'Есть в наличии', '0 отзывов', 'Ноутбуки')\n",
            "('Ноутбук Acer Predator Triton 500 PT515-52-73Q8 (NH.Q6YER.005)', 'Acer', '799990.0', '462679', 'Есть в наличии', '0 отзывов', 'Ноутбуки')\n",
            "('Ноутбук Apple MacBook Pro 13″ M1 3.2/8Gb/256GB SSD Space Gray (MYD82)', 'Apple', '715990.0', '483038', 'Товар на витрине', '0 отзывов', 'Ноутбуки')\n",
            "('Ноутбук Acer Swift 5 SF514-54T-51UF (NX.HHYER.006)', 'Acer', '429990.0', '462673', 'Есть в наличии', '0 отзывов', 'Ноутбуки')\n",
            "('Ноутбук Asus Rog G512LW (90NR0391-M02720)', 'Asus', '599990.0', '483801', 'Есть в наличии', '0 отзывов', 'Ноутбуки')\n",
            "('Ноутбук Acer Aspire 3 A315-56-37Y1 I341TUW (NX.HS5ER.00R)', 'Acer', '209990.0', '462664', 'Товар на витрине', '1 отзывов', 'Ноутбуки')\n",
            "('Ноутбук Asus Laptops 15 X509UA-BR039T (90NB0NC2-M05520)', 'Asus', '214990.0', '467040', 'Есть в наличии', '0 отзывов', 'Ноутбуки')\n",
            "('Ноутбук Apple MacBook Air 13″ (2020) i5 1,1/8Gb/512GB SSD Gold (MVH52)', 'Apple', '730990.0', '460043', 'Товар на витрине', '0 отзывов', 'Ноутбуки')\n",
            "('Ноутбук Acer ConceptD 9 CN917-71-76H5 I7322TSGW (NX.C4LER.005)', 'Acer', '1799990.0', '462683', 'Товар на витрине', '0 отзывов', 'Ноутбуки')\n",
            "('Ноутбук Lenovo Ideapad S145 V15-IIL I585SUN (82C500FNRK)', 'Lenovo', '289990.0', '475483', 'Есть в наличии', '0 отзывов', 'Ноутбуки')\n",
            "('Ноутбук Apple MacBook Pro 16\" i7 2.6/16/512 SSD Silver (MVVL2)', 'Apple', '1294690.0', '421296', 'Есть в наличии', '0 отзывов', 'Ноутбуки')\n",
            "('Ноутбук Asus ROG Zephyrus GX701L (90NR03Q1-M02600)', 'Asus', '1399990.0', '474558', 'Есть в наличии', '0 отзывов', 'Ноутбуки')\n",
            "('Ультрабук Acer Swift 1 SF114-33 P42SUW Blue (NX.A3FER.002)', 'Acer', '214990.0', '473388', 'Есть в наличии', '0 отзывов', 'Ноутбуки')\n"
          ]
        },
        {
          "name": "stdout",
          "output_type": "stream",
          "text": [
            "('Ноутбук Apple MacBook Air 13″ M1 3.2/8Gb/256GB SSD Gold (MGND3)', 'Apple', '550990.0', '483036', 'Товар на витрине', '0 отзывов', 'Ноутбуки')\n",
            "('Ноутбук Acer ConceptD 7 CN715-71P-70XB (NX.C4PER.001)', 'Acer', '1599990.0', '462665', 'Товар на витрине', '0 отзывов', 'Ноутбуки')\n",
            "('Ноутбук Lenovo IdeaPad S145 I341TUN (81W800R8RK)', 'Lenovo', '189990.0', '463065', 'Есть в наличии', '0 отзывов', 'Ноутбуки')\n",
            "('Ноутбук Apple MacBook Pro 13 2020 Silver (MXK72)', 'Apple', '842990.0', '460438', 'Товар на витрине', '0 отзывов', 'Ноутбуки')\n",
            "('Ноутбук Apple MacBook Pro 13″ M1 3.2/8Gb/512GB SSD Space Gray (MYD92)', 'Apple', '825990.0', '483039', 'Товар на витрине', '0 отзывов', 'Ноутбуки')\n",
            "('Ноутбук Acer Swift 3 SF314-41G R585SMW (NX.HF0ER.004)', 'Acer', '299990.0', '473400', 'Есть в наличии', '0 отзывов', 'Ноутбуки')\n",
            "('Ультрабук  Acer Swift 1 SF114-33 P41SUW Blue (NX.A3FER.001)', 'Acer', '199990.0', '473389', 'Есть в наличии', '0 отзывов', 'Ноутбуки')\n",
            "('Ультрабук Acer Swift 1 SF114-33 P42SUW Silver (NX.HYSER.002)', 'Acer', '214990.0', '473391', 'Есть в наличии', '0 отзывов', 'Ноутбуки')\n",
            "('Ноутбук Lenovo IdeaPad S145 R341TUN (81UT00LGRK)', 'Lenovo', '179990.0', '463070', 'Есть в наличии', '0 отзывов', 'Ноутбуки')\n",
            "('Ноутбук Asus ROG Strix G512L I71615SGN (90NR04D1-M01710)', 'Asus', '599990.0', '474556', 'Есть в наличии', '1 отзывов', 'Ноутбуки')\n",
            "('Ноутбук Asus TUF Gaming FX506LU (90NR0421-M03380)', 'Asus', '419990.0', '475540', 'Есть в наличии', '0 отзывов', 'Ноутбуки')\n",
            "('Ультрабук Acer Swift 3 SF314-41G R382SMW (NX.HFGER.002)', 'Acer', '269990.0', '473385', 'Есть в наличии', '0 отзывов', 'Ноутбуки')\n",
            "('Ноутбук Lenovo IdeaPad L340 R581TUW (81LW00JSRK)', 'Lenovo', '259990.0', '463071', 'Есть в наличии', '0 отзывов', 'Ноутбуки')\n",
            "('Ноутбук Asus TUF Gaming FX506L (90NR03T2-M01550)', 'Asus', '369990.0', '475104', 'Есть в наличии', '0 отзывов', 'Ноутбуки')\n",
            "('Ультрабук Apple Macbook Pro 13″ Touch Bar i5 2,4/8/512SSD Space Grey (MV972)', 'Apple', '999990.0', '306404', 'Товар на витрине', '1 отзывов', 'Ноутбуки')\n",
            "('Ноутбук Acer Aspire 3 A315-56 i581TUW (NX.HS5ER.01B)', 'Acer', '259990.0', '475652', 'Товар на витрине', '1 отзывов', 'Ноутбуки')\n",
            "('Ноутбук Apple MacBook Pro 13 2020 Space Grey (MWP52)', 'Apple', '999090.0', '460441', 'Товар на витрине', '0 отзывов', 'Ноутбуки')\n",
            "('Ноутбук Asus TUF Gaming FX506LU (90NR0422-M04260)', 'Asus', '419990.0', '475528', 'Есть в наличии', '1 отзывов', 'Ноутбуки')\n",
            "('Ноутбук Apple MacBook Air 13″ M1 3.2/8Gb/512GB SSD Space Gray (MGN73)', 'Apple', '687990.0', '483033', 'Есть в наличии', '0 отзывов', 'Ноутбуки')\n",
            "('Ноутбук Asus Laptop 15 X509J I561TMW (90NB0RG1-M03100)', 'Asus', '269990.0', '463043', 'Есть в наличии', '0 отзывов', 'Ноутбуки')\n",
            "('Ультрабук Acer Swift 3 SF314-41 R585SUW (NX.HFEER.008)', 'Acer', '289990.0', '473402', 'Есть в наличии', '0 отзывов', 'Ноутбуки')\n",
            "('Ноутбук Asus ROG Zephyrus GU502L I7161TSGN (90NR04F6-M02940)', 'Asus', '899990.0', '474559', 'Товар на витрине', '0 отзывов', 'Ноутбуки')\n",
            "('Ноутбук Lenovo Legion 7 15IMH05 I5161TSGN (81YT008XRK)', 'Lenovo', '699990.0', '473379', 'Товар на витрине', '0 отзывов', 'Ноутбуки')\n",
            "('Ноутбук Asus TUF Gaming FX706L (90NR03S2-M01990)', 'Asus', '399990.0', '475535', 'Есть в наличии', '0 отзывов', 'Ноутбуки')\n",
            "('Ультрабук Acer Swift 3 SF314-41 R585SUW (NX.HFDER.007)', 'Acer', '289990.0', '473393', 'Есть в наличии', '0 отзывов', 'Ноутбуки')\n",
            "('Ноутбук Asus Laptops 15 X509JA-EJ062 I341TUN (90NB0QE1-M13580)', 'Asus', '199990.0', '467034', 'Есть в наличии', '0 отзывов', 'Ноутбуки')\n",
            "('Ноутбук Asus Laptop 15 X509J I341TUN (90NB0QE1-M14800)', 'Asus', '199990.0', '463044', 'Есть в наличии', '0 отзывов', 'Ноутбуки')\n",
            "('Ноутбук Acer Swift 7 SF714-52T-55C6 (NX.H98ER.00A)', 'Acer', '599990.0', '462687', 'Товар на витрине', '0 отзывов', 'Ноутбуки')\n",
            "('Ноутбук Acer Swift 3 SF314-41 R382SUW (NX.HFEER.007)', 'Acer', '249990.0', '473401', 'Есть в наличии', '0 отзывов', 'Ноутбуки')\n",
            "('Ноутбук Asus TUF Gaming FX706L (90NR03S2-M00950)', 'Asus', '394990.0', '475537', 'Есть в наличии', '0 отзывов', 'Ноутбуки')\n",
            "('Ультрабук Asus E410MA (90NB0Q16-M05550)', 'Asus', '164990.0', '483800', 'Есть в наличии', '0 отзывов', 'Ноутбуки')\n",
            "('Ноутбук Lenovo IdeaPad 3 I381TMW (81WE00Q7RK)', 'Lenovo', '259990.0', '463066', 'Есть в наличии', '0 отзывов', 'Ноутбуки')\n",
            "('Ноутбук Apple MacBook Pro 13 2020 Silver (MWP82)', 'Apple', '1101990.0', '460442', 'Товар на витрине', '0 отзывов', 'Ноутбуки')\n",
            "('Ноутбук Asus Laptops 15 X509JA-EJ355T (90NB0QE1-M19100)', 'Asus', '229990.0', '482717', 'Есть в наличии', '0 отзывов', 'Ноутбуки')\n",
            "('Ультрабук Dell Inspiron 5401 I585SMN 210-AVOM-A4', 'Dell', '359990.0', '475711', 'Есть в наличии', '0 отзывов', 'Ноутбуки')\n",
            "('Ультрабук Huawei MateBook D14 NobelK-WAQ9AR', 'Huawei', '319990.0', '484277', 'В продаже с 15.01.2021', '0 отзывов', 'Ноутбуки')\n",
            "('Ноутбук Apple MacBook Pro 13 2020 Silver (MWP72)', 'Apple', '991990.0', '460440', 'Товар на витрине', '0 отзывов', 'Ноутбуки')\n",
            "('Ноутбук Acer Nitro 5 AN515-44 R5165SGN (NH.Q9HER.00L)', 'DXRacer', '399990.0', '475488', 'Есть в наличии', '0 отзывов', 'Ноутбуки')\n",
            "('Ноутбук Acer Aspire 3 A315-23G (NX.HVRER.00E)', 'Acer', '229990.0', '473394', 'Есть в наличии', '0 отзывов', 'Ноутбуки')\n",
            "('Ноутбук Acer Swift 3 SF114-33 Silver (NX.HYSER.001)', 'Acer', '199990.0', '473390', 'Есть в наличии', '0 отзывов', 'Ноутбуки')\n",
            "('Ноутбук Huawei MateBook D15 Bohrk-WAQ9BR', 'Huawei', '349990.0', '484278', 'В продаже с 15.01.2021', '0 отзывов', 'Ноутбуки')\n",
            "('Ультрабук Acer Swift 3 SF314-57G I585SMW (NX.HUEER.002)', 'Acer', '359990.0', '473397', 'Есть в наличии', '0 отзывов', 'Ноутбуки')\n",
            "('Ноутбук Asus ROG Zephyrus GU502L (90NR04F6-M02080)', 'Asus', '899990.0', '475529', 'Есть в наличии', '0 отзывов', 'Ноутбуки')\n",
            "('Ноутбук Dell Latitude 3510 (210-AVLN)', 'Dell', '364990.0', '476146', 'Товар на витрине', '0 отзывов', 'Ноутбуки')\n",
            "('Ноутбук HP Spectre x-360 13-aw0003ur (8PK89EA)', 'HP', '579990.0', '476142', 'Товар на витрине', '0 отзывов', 'Ноутбуки')\n",
            "('Ноутбук Acer Aspire 3 A315-57G I341TMN (NX.HZRER.005)', 'Acer', '229990.0', '473395', 'Есть в наличии', '0 отзывов', 'Ноутбуки')\n",
            "('Ноутбук Dell Vostro 5501 (210-AVNG-A)', 'Dell', '329990.0', '475708', 'Есть в наличии', '0 отзывов', 'Ноутбуки')\n",
            "('Ультрабук Acer Swift 1 SF114-33 P41SUW (NX.HYNER.001)', 'Acer', '199990.0', '473398', 'Есть в наличии', '0 отзывов', 'Ноутбуки')\n",
            "('Ноутбук Acer Swift 3 SF314-59 (NX.A0MER.002)', 'Acer', '349990.0', '473404', 'Есть в наличии', '0 отзывов', 'Ноутбуки')\n",
            "('Ультрабук Dell Inspiron 5401 I585SMW 210-AVOM', 'Dell', '399990.0', '475710', 'Есть в наличии', '0 отзывов', 'Ноутбуки')\n",
            "('Ультрабук Dell Inspiron 5401 I585SUN 210-AVOM-A1', 'Dell', '337990.0', '475712', 'Есть в наличии', '0 отзывов', 'Ноутбуки')\n",
            "('Ультрабук Acer Swift 1 SF114-33 P42SUW (NX.HYNER.002)', 'Acer', '214990.0', '473399', 'Есть в наличии', '0 отзывов', 'Ноутбуки')\n",
            "('Ноутбук Asus ZenBook S UX393E (90NB0S71-M00620)', 'Asus', '639990.0', '483820', 'Есть в наличии', '0 отзывов', 'Ноутбуки')\n",
            "('Ноутбук Dell Vostro 5401 (210-AVNJ)', 'Dell', '333990.0', '475707', 'Есть в наличии', '0 отзывов', 'Ноутбуки')\n",
            "('Ноутбук Acer Predator Triton 300 PT315-52 I5165SGN (NH.Q7CER.00B)', 'Acer', '499990.0', '475492', 'Есть в наличии', '0 отзывов', 'Ноутбуки')\n",
            "('Ноутбук Asus Laptops 15 D509 (90NB0P52-M05810)', 'Asus', '159990.0', '483614', 'Есть в наличии', '0 отзывов', 'Ноутбуки')\n",
            "('Ноутбук Asus TUF Gaming FX506L (90NR03T1-M04130)', 'Asus', '389990.0', '475534', 'Есть в наличии', '0 отзывов', 'Ноутбуки')\n",
            "('Ноутбук Dell Inspiron 5401 (210-AVOM-A5)', 'Dell', '374990.0', '475724', 'Товар на витрине', '0 отзывов', 'Ноутбуки')\n",
            "('Ноутбук HP Elitebook 830 G7 (176Z0EA)', 'HP', '602990.0', '476140', 'Товар на витрине', '0 отзывов', 'Ноутбуки')\n",
            "('Ноутбук Dell Vostro 5401 (210-AVNJ-A1)', 'Dell', '387990.0', '475727', 'Есть в наличии', '0 отзывов', 'Ноутбуки')\n",
            "('Ноутбук Acer Nitro 5 AN515-55 I5165SGN (NH.Q7PER.006)', 'DXRacer', '429990.0', '475490', 'Есть в наличии', '0 отзывов', 'Ноутбуки')\n",
            "('Ультрабук Acer Swift 1 SF114-32 (NX.GXUER.00E)', 'Acer', '184990.0', '475493', 'Есть в наличии', '0 отзывов', 'Ноутбуки')\n",
            "('Ноутбук HP Elitebook 830 G7 (176Z1EA)', 'HP', '526990.0', '476139', 'Товар на витрине', '0 отзывов', 'Ноутбуки')\n",
            "('Ультрабук HP EliteBook 840 G6 I582SUW (6XD76EA)', 'HP', '501990.0', '476144', 'Товар на витрине', '0 отзывов', 'Ноутбуки')\n"
          ]
        },
        {
          "name": "stdout",
          "output_type": "stream",
          "text": [
            "('Ультрабук HP EliteBook 840 G6 I585SMW (8MJ69EA)', 'HP', '607990.0', '476143', 'Товар на витрине', '0 отзывов', 'Ноутбуки')\n",
            "('Ноутбук Dell Latitude 3300 (210-AREL)', 'Dell', '396990.0', '475725', 'Товар на витрине', '0 отзывов', 'Ноутбуки')\n",
            "('Ноутбук Acer Aspire 7 A715-75G (NH.Q9AER.005)', 'Acer', '369990.0', '475486', 'Есть в наличии', '0 отзывов', 'Ноутбуки')\n",
            "('Ноутбук Lenovo V14-IGL (82C2000YRU)', 'Lenovo', '169990.0', '484650', 'Есть в наличии', '0 отзывов', 'Ноутбуки')\n",
            "('Ультрабук Lenovo IdeaPad 5 14IIL05 (81YH00NYRK)', 'Lenovo', '289990.0', '473369', 'Есть в наличии', '0 отзывов', 'Ноутбуки')\n",
            "('Ноутбук Lenovo IdeaPad 3 I581TMW 81WE00Q8RK', 'Lenovo', '269990.0', '463072', 'Есть в наличии', '0 отзывов', 'Ноутбуки')\n",
            "('Ноутбук Lenovo Legion7 15IMH05 (81YT0067RK)', 'Lenovo', '779990.0', '473376', 'Есть в наличии', '0 отзывов', 'Ноутбуки')\n"
          ]
        }
      ],
      "source": [
        "# HERE, IS MY website \"sulpak\"\n",
        "url = 'https://www.sulpak.kz/f/noutbuki?page='\n",
        "laptops = []\n",
        "count = 1\n",
        "while count <= 4: # 4 is page number, until 4th page scrap data.\n",
        "    url = 'https://www.sulpak.kz/f/noutbuki?page=' + str(count)\n",
        "    print(url)\n",
        "    response = get(url)\n",
        "    soup = BeautifulSoup(response.text, 'html.parser')\n",
        "    \n",
        "    # getting my all \"li\" which contains of each block:\n",
        "    laptop_data = soup.find_all('li', class_=\"tile-container\")\n",
        "    if laptop_data != []:\n",
        "        laptops.extend(laptop_data)\n",
        "        value = random.random()\n",
        "        scaled_value = 1 + (value * (9 - 5))\n",
        "        print(scaled_value)\n",
        "        time.sleep(scaled_value)\n",
        "    else: # if nothing, then show empty,0:\n",
        "        print('empty')\n",
        "        break\n",
        "    count += 1\n",
        "    \n",
        "print(len(laptops))\n",
        "print(laptops[0])\n",
        "print()\n",
        "n = int(len(laptops)) - 1\n",
        "count = 0\n",
        "while count <= 120:  # number of laptops,which will be collected:\n",
        "    # Here, scrap each data for each column in my dataset:\n",
        "    info = laptops[int(count)]\n",
        "    name = info.get('data-name')\n",
        "    brand = info.get('data-brand')\n",
        "    price = info.get('data-price')\n",
        "    code = info.get('data-code')\n",
        "    available = info.find('span', class_=\"availability\").text\n",
        "    coments = info.find('span', class_=\"coments-quantity\").text\n",
        "    #offers = info.find('div', class_=\"tape offer-tip special-offer-tooltip\").get('p')\n",
        "    lists = info.get('data-list')\n",
        "    # retrieving them, with 'comma' , to look better:\n",
        "    result = ( name,brand,price,code,available,coments,lists)\n",
        "    print(result)\n",
        "\n",
        "    data.to_csv(r'C:\\Users\\клиент\\Desktop\\3.Info Retriev & Data M\\3. Week-3\\scrapped.csv', sep=',', encoding='utf-8-sig',index = False )\n",
        "    count += 1"
      ]
    },
    {
      "cell_type": "markdown",
      "metadata": {
        "id": "QiPmw72LIFzm"
      },
      "source": [
        "### ✤ I just copied my scrapped data and make an array called \"datasets\":"
      ]
    },
    {
      "cell_type": "code",
      "execution_count": null,
      "metadata": {
        "id": "o6D0Vs6hIFzm"
      },
      "outputs": [],
      "source": [
        "datasets = [ ( 'name','brand','price','code','available','coments','lists'),\n",
        "('Ноутбук Acer Nitro 5 AN515-55-50CH (NH.Q7MER.005)', 'Acer', '379990.0', '462684', 'Есть в наличии', '6 отзывов', 'Ноутбуки'),\n",
        "('Ультрабук Acer Swift 1 SF114-32-C6XS (NX.GXVER.001) Sparkly Silver', 'Acer', '184990.0', '308826', 'Есть в наличии', '4 отзывов', 'Ноутбуки'),\n",
        "('Ноутбук Acer Aspire 3 A315-56 I341TUN (NX.HS5ER.00V)', 'Acer', '189990.0', '473386', 'Есть в наличии', '1 отзывов', 'Ноутбуки'),\n",
        "('Ноутбук Lenovo IdeaPad Gaming 3 I781T1SGN (81Y400NTRK)', 'Lenovo', '409990.0', '463064', 'Есть в наличии', '4 отзывов', 'Ноутбуки'),\n",
        "('Ноутбук Acer Aspire 7 Gaming  A715-75G-701Q (NH.Q87ER.00F)', 'Acer', '439990.0', '462675', 'Есть в наличии', '3 отзывов', 'Ноутбуки'),\n",
        "('Ноутбук Apple MacBook Air 13″ (2020) i3 1,1/8Gb/256GB SSD Space Gray (MWTJ2)', 'Apple', '519090.0', '460038', 'Есть в наличии', '2 отзывов', 'Ноутбуки'),\n",
        "('Ноутбук Apple MacBook Air 13″ (2020) i5 1,1/8Gb/512GB SSD Space Gray (MVH22)', 'Apple', '652790.0', '460041', 'Есть в наличии', '0 отзывов', 'Ноутбуки'),\n",
        "('Ноутбук Acer Nitro 5 AN515-44-R329 (NH.Q9GER.006)', 'Acer', '379990.0', '462690', 'Товар на витрине', '1 отзывов', 'Ноутбуки'),\n",
        "('Ноутбук Acer Aspire 3 A315-34 C41TUW (NX.HE3ER.011)', 'Acer', '169990.0', '473381', 'Есть в наличии', '0 отзывов', 'Ноутбуки'),\n",
        "('Ноутбук Apple MacBook Air 13″ (2020) i3 1,1/8Gb/256GB SSD Gold (MWTL2)', 'Apple', '519290.0', '460040', 'Товар на витрине', '1 отзывов', 'Ноутбуки'),\n",
        "('Ноутбук Asus Laptop 15 X509J (90NB0QE2-M04160)', 'Asus', '199990.0', '463045', 'Товар на витрине', '0 отзывов', 'Ноутбуки'),\n",
        "('Ноутбук Lenovo Ideapad S145-15IIL (81W800KNRK)', 'Lenovo', '219990.0', '456852', 'Есть в наличии', '0 отзывов', 'Ноутбуки'),\n",
        "('Ноутбук Asus TUF Gaming FA506I R585GN (90NR03M2-M04110)', 'Asus', '419990.0', '463051', 'Товар на витрине', '0 отзывов', 'Ноутбуки'),\n",
        "('Ноутбук Asus E Gaming X571G (90NB0NL1-M11960)', 'Asus', '329990.0', '463042', 'Есть в наличии', '0 отзывов', 'Ноутбуки'),\n",
        "('Ноутбук Apple MacBook Air 13″ (2020) i3 1,1/8Gb/256GB SSD Silver (MWTK2)', 'Apple', '519890.0', '460039', 'Есть в наличии', '1 отзывов', 'Ноутбуки'),\n",
        "('Ноутбук Acer Aspire 3 A315-23G-R029 A85MW (NX.HVRER.00F)', 'Acer', '219990.0', '462659', 'Есть в наличии', '3 отзывов', 'Ноутбуки'),\n",
        "('Ноутбук Apple MacBook Pro 16\" i9 2.3/16/1TB SSD Space Grey (MVVK2)', 'Apple', '1510290.0', '421297', 'Товар на витрине', '2 отзывов', 'Ноутбуки'),\n",
        "('Ноутбук Lenovo IdeaPad 5 15IIL05 I342UW (81YK00PKRK)', 'Lenovo', '249990.0', '463073', 'Есть в наличии', '0 отзывов', 'Ноутбуки'),\n",
        "('Ноутбук Acer Predator Helios 300 PH315-53-53Z7 (NH.Q7YER.007)', 'Acer', '559990.0', '462680', 'Товар на витрине', '1 отзывов', 'Ноутбуки'),\n",
        "('Ноутбук Lenovo IdeaPad Gaming 3 I781T1SGN (81Y400NVRK)', 'Lenovo', '429990.0', '463069', 'Есть в наличии', '0 отзывов', 'Ноутбуки'),\n",
        "('Ноутбук Lenovo IdeaPad Gaming 3 I581T1GN (81Y400NWRK)', 'Lenovo', '349990.0', '463068', 'Есть в наличии', '1 отзывов', 'Ноутбуки'),\n",
        "('Ноутбук Apple MacBook Pro 16\" Space Grey (MVVJ2)', 'Apple', '1294290.0', '421295', 'Есть в наличии', '0 отзывов', 'Ноутбуки'),\n",
        "('Ноутбук Acer Predator Triton 300 PT315-52-58EU (NH.Q7BER.004)', 'Acer', '599990.0', '462676', 'Есть в наличии', '0 отзывов', 'Ноутбуки'),\n",
        "('Ноутбук Acer Swift 3 SF314-57-34H1 I382UW (NX.HJ5ER.001)', 'Acer', '259990.0', '462669', 'Товар на витрине', '0 отзывов', 'Ноутбуки'),\n",
        "('Ноутбук Asus TUF Gaming FX505GT (90NR02M2-M03250)', 'Asus', '349990.0', '474552', 'Есть в наличии', '0 отзывов', 'Ноутбуки'),\n",
        "('Ноутбук Acer Nitro 5 AN515-44 R585SGN (NH.Q9HER.007)', 'DXRacer', '379990.0', '475487', 'Есть в наличии', '1 отзывов', 'Ноутбуки'),\n",
        "('Ультрабук Asus VivoBook 14 X412FA-EB1219T I342SUW (90NB0L92-M18340)', 'Asus', '239990.0', '467037', 'Есть в наличии', '0 отзывов', 'Ноутбуки'),\n",
        "('Ноутбук Asus Laptops 15 X509J (90NB0QD2-M05690)', 'Asus', '239990.0', '475541', 'Есть в наличии', '0 отзывов', 'Ноутбуки'),\n",
        "('Ультрабук Lenovo IdeaPad 5 14IIL05 (81YH00KERK)', 'Lenovo', '269990.0', '463075', 'Есть в наличии', '1 отзывов', 'Ноутбуки'),\n",
        "('Ноутбук Asus Rog Strix G512L  (90NR0351-M04890)', 'Asus', '479990.0', '475539', 'Товар на витрине', '0 отзывов', 'Ноутбуки'),\n",
        "('Ноутбук Acer Aspire 3 A315-56-37KC I345UN (NX.HS5ER.018)', 'Acer', '189990.0', '462663', 'Товар на витрине', '0 отзывов', 'Ноутбуки'),\n",
        "('Ноутбук Apple MacBook Pro 13 2020 Space Grey (MXK52)', 'Apple', '842990.0', '460437', 'Есть в наличии', '0 отзывов', 'Ноутбуки'),\n",
        "('Ноутбук Acer Swift 1 SF114-32 Silver (NX.GXUER.00B)', 'Acer', '219990.0', '427031', 'Есть в наличии', '0 отзывов', 'Ноутбуки'),\n",
        "('Ноутбук Asus Vivobook S403F (90NB0LP2-M06800)', 'Asus', '399990.0', '456811', 'Товар на витрине', '0 отзывов', 'Ноутбуки'),\n",
        "('Ноутбук Apple MacBook Air 13″ (2020) i5 1,1/8Gb/512GB SSD Silver (MVH42)', 'Apple', '730990.0', '460042', 'Товар на витрине', '0 отзывов', 'Ноутбуки'),\n",
        "('Ноутбук Asus E410M P41UW (90NB0Q11-M09810)', 'Asus', '179990.0', '463048', 'Есть в наличии', '0 отзывов', 'Ноутбуки'),\n",
        "('Ноутбук Apple MacBook Pro 13 2020 Space Grey (MWP42)', 'Apple', '899090.0', '460439', 'Есть в наличии', '0 отзывов', 'Ноутбуки'),\n",
        "('Ноутбук Asus E Gaming X571G I585SGN (90NB0NL1-M11970)', 'Asus', '329990.0', '463046', 'Есть в наличии', '0 отзывов', 'Ноутбуки'),\n",
        "('Ноутбук Acer Predator Triton 500 PT515-52-73Q8 (NH.Q6YER.005)', 'Acer', '799990.0', '462679', 'Есть в наличии', '0 отзывов', 'Ноутбуки'),\n",
        "('Ноутбук Apple MacBook Pro 13″ M1 3.2/8Gb/256GB SSD Space Gray (MYD82)', 'Apple', '715990.0', '483038', 'Товар на витрине', '0 отзывов', 'Ноутбуки'),\n",
        "('Ноутбук Acer Swift 5 SF514-54T-51UF (NX.HHYER.006)', 'Acer', '429990.0', '462673', 'Есть в наличии', '0 отзывов', 'Ноутбуки'),\n",
        "('Ноутбук Asus Rog G512LW (90NR0391-M02720)', 'Asus', '599990.0', '483801', 'Есть в наличии', '0 отзывов', 'Ноутбуки'),\n",
        "('Ноутбук Acer Aspire 3 A315-56-37Y1 I341TUW (NX.HS5ER.00R)', 'Acer', '209990.0', '462664', 'Товар на витрине', '1 отзывов', 'Ноутбуки'),\n",
        "('Ноутбук Asus Laptops 15 X509UA-BR039T (90NB0NC2-M05520)', 'Asus', '214990.0', '467040', 'Есть в наличии', '0 отзывов', 'Ноутбуки'),\n",
        "('Ноутбук Apple MacBook Air 13″ (2020) i5 1,1/8Gb/512GB SSD Gold (MVH52)', 'Apple', '730990.0', '460043', 'Товар на витрине', '0 отзывов', 'Ноутбуки'),\n",
        "('Ноутбук Acer ConceptD 9 CN917-71-76H5 I7322TSGW (NX.C4LER.005)', 'Acer', '1799990.0', '462683', 'Товар на витрине', '0 отзывов', 'Ноутбуки'),\n",
        "('Ноутбук Lenovo Ideapad S145 V15-IIL I585SUN (82C500FNRK)', 'Lenovo', '289990.0', '475483', 'Есть в наличии', '0 отзывов', 'Ноутбуки'),\n",
        "('Ноутбук Apple MacBook Pro 16\" i7 2.6/16/512 SSD Silver (MVVL2)', 'Apple', '1294690.0', '421296', 'Есть в наличии', '0 отзывов', 'Ноутбуки'),\n",
        "('Ноутбук Asus ROG Zephyrus GX701L (90NR03Q1-M02600)', 'Asus', '1399990.0', '474558', 'Есть в наличии', '0 отзывов', 'Ноутбуки'),\n",
        "('Ультрабук Acer Swift 1 SF114-33 P42SUW Blue (NX.A3FER.002)', 'Acer', '214990.0', '473388', 'Есть в наличии', '0 отзывов', 'Ноутбуки'),\n",
        "('Ноутбук Apple MacBook Air 13″ M1 3.2/8Gb/256GB SSD Gold (MGND3)', 'Apple', '550990.0', '483036', 'Товар на витрине', '0 отзывов', 'Ноутбуки'),\n",
        "('Ноутбук Acer ConceptD 7 CN715-71P-70XB (NX.C4PER.001)', 'Acer', '1599990.0', '462665', 'Товар на витрине', '0 отзывов', 'Ноутбуки'),\n",
        "('Ноутбук Lenovo IdeaPad S145 I341TUN (81W800R8RK)', 'Lenovo', '189990.0', '463065', 'Есть в наличии', '0 отзывов', 'Ноутбуки'),\n",
        "('Ноутбук Apple MacBook Pro 13 2020 Silver (MXK72)', 'Apple', '842990.0', '460438', 'Товар на витрине', '0 отзывов', 'Ноутбуки'),\n",
        "('Ноутбук Apple MacBook Pro 13″ M1 3.2/8Gb/512GB SSD Space Gray (MYD92)', 'Apple', '825990.0', '483039', 'Товар на витрине', '0 отзывов', 'Ноутбуки'),\n",
        "('Ноутбук Acer Swift 3 SF314-41G R585SMW (NX.HF0ER.004)', 'Acer', '299990.0', '473400', 'Есть в наличии', '0 отзывов', 'Ноутбуки'),\n",
        "('Ультрабук  Acer Swift 1 SF114-33 P41SUW Blue (NX.A3FER.001)', 'Acer', '199990.0', '473389', 'Есть в наличии', '0 отзывов', 'Ноутбуки'),\n",
        "('Ультрабук Acer Swift 1 SF114-33 P42SUW Silver (NX.HYSER.002)', 'Acer', '214990.0', '473391', 'Есть в наличии', '0 отзывов', 'Ноутбуки'),\n",
        "('Ноутбук Lenovo IdeaPad S145 R341TUN (81UT00LGRK)', 'Lenovo', '179990.0', '463070', 'Есть в наличии', '0 отзывов', 'Ноутбуки'),\n",
        "('Ноутбук Asus ROG Strix G512L I71615SGN (90NR04D1-M01710)', 'Asus', '599990.0', '474556', 'Есть в наличии', '1 отзывов', 'Ноутбуки'),\n",
        "('Ноутбук Asus TUF Gaming FX506LU (90NR0421-M03380)', 'Asus', '419990.0', '475540', 'Есть в наличии', '0 отзывов', 'Ноутбуки'),\n",
        "('Ультрабук Acer Swift 3 SF314-41G R382SMW (NX.HFGER.002)', 'Acer', '269990.0', '473385', 'Есть в наличии', '0 отзывов', 'Ноутбуки'),\n",
        "('Ноутбук Lenovo IdeaPad L340 R581TUW (81LW00JSRK)', 'Lenovo', '259990.0', '463071', 'Есть в наличии', '0 отзывов', 'Ноутбуки'),\n",
        "('Ноутбук Asus TUF Gaming FX506L (90NR03T2-M01550)', 'Asus', '369990.0', '475104', 'Есть в наличии', '0 отзывов', 'Ноутбуки'),\n",
        "('Ультрабук Apple Macbook Pro 13″ Touch Bar i5 2,4/8/512SSD Space Grey (MV972)', 'Apple', '999990.0', '306404', 'Товар на витрине', '1 отзывов', 'Ноутбуки'),\n",
        "('Ноутбук Acer Aspire 3 A315-56 i581TUW (NX.HS5ER.01B)', 'Acer', '259990.0', '475652', 'Товар на витрине', '1 отзывов', 'Ноутбуки'),\n",
        "('Ноутбук Apple MacBook Pro 13 2020 Space Grey (MWP52)', 'Apple', '999090.0', '460441', 'Товар на витрине', '0 отзывов', 'Ноутбуки'),\n",
        "('Ноутбук Asus TUF Gaming FX506LU (90NR0422-M04260)', 'Asus', '419990.0', '475528', 'Есть в наличии', '1 отзывов', 'Ноутбуки'),\n",
        "('Ноутбук Apple MacBook Air 13″ M1 3.2/8Gb/512GB SSD Space Gray (MGN73)', 'Apple', '687990.0', '483033', 'Есть в наличии', '0 отзывов', 'Ноутбуки'),\n",
        "('Ноутбук Asus Laptop 15 X509J I561TMW (90NB0RG1-M03100)', 'Asus', '269990.0', '463043', 'Есть в наличии', '0 отзывов', 'Ноутбуки'),\n",
        "('Ультрабук Acer Swift 3 SF314-41 R585SUW (NX.HFEER.008)', 'Acer', '289990.0', '473402', 'Есть в наличии', '0 отзывов', 'Ноутбуки'),\n",
        "('Ноутбук Asus ROG Zephyrus GU502L I7161TSGN (90NR04F6-M02940)', 'Asus', '899990.0', '474559', 'Товар на витрине', '0 отзывов', 'Ноутбуки'),\n",
        "('Ноутбук Lenovo Legion 7 15IMH05 I5161TSGN (81YT008XRK)', 'Lenovo', '699990.0', '473379', 'Товар на витрине', '0 отзывов', 'Ноутбуки'),\n",
        "('Ноутбук Asus TUF Gaming FX706L (90NR03S2-M01990)', 'Asus', '399990.0', '475535', 'Есть в наличии', '0 отзывов', 'Ноутбуки'),\n",
        "('Ультрабук Acer Swift 3 SF314-41 R585SUW (NX.HFDER.007)', 'Acer', '289990.0', '473393', 'Есть в наличии', '0 отзывов', 'Ноутбуки'),\n",
        "('Ноутбук Asus Laptops 15 X509JA-EJ062 I341TUN (90NB0QE1-M13580)', 'Asus', '199990.0', '467034', 'Есть в наличии', '0 отзывов', 'Ноутбуки'),\n",
        "('Ноутбук Asus Laptop 15 X509J I341TUN (90NB0QE1-M14800)', 'Asus', '199990.0', '463044', 'Есть в наличии', '0 отзывов', 'Ноутбуки'),\n",
        "('Ноутбук Acer Swift 7 SF714-52T-55C6 (NX.H98ER.00A)', 'Acer', '599990.0', '462687', 'Товар на витрине', '0 отзывов', 'Ноутбуки'),\n",
        "('Ноутбук Acer Swift 3 SF314-41 R382SUW (NX.HFEER.007)', 'Acer', '249990.0', '473401', 'Есть в наличии', '0 отзывов', 'Ноутбуки'),\n",
        "('Ноутбук Asus TUF Gaming FX706L (90NR03S2-M00950)', 'Asus', '394990.0', '475537', 'Есть в наличии', '0 отзывов', 'Ноутбуки'),\n",
        "('Ультрабук Asus E410MA (90NB0Q16-M05550)', 'Asus', '164990.0', '483800', 'Есть в наличии', '0 отзывов', 'Ноутбуки'),\n",
        "('Ноутбук Lenovo IdeaPad 3 I381TMW (81WE00Q7RK)', 'Lenovo', '259990.0', '463066', 'Есть в наличии', '0 отзывов', 'Ноутбуки'),\n",
        "('Ноутбук Apple MacBook Pro 13 2020 Silver (MWP82)', 'Apple', '1101990.0', '460442', 'Товар на витрине', '0 отзывов', 'Ноутбуки'),\n",
        "('Ноутбук Asus Laptops 15 X509JA-EJ355T (90NB0QE1-M19100)', 'Asus', '229990.0', '482717', 'Есть в наличии', '0 отзывов', 'Ноутбуки'),\n",
        "('Ультрабук Dell Inspiron 5401 I585SMN 210-AVOM-A4', 'Dell', '359990.0', '475711', 'Есть в наличии', '0 отзывов', 'Ноутбуки'),\n",
        "('Ультрабук Huawei MateBook D14 NobelK-WAQ9AR', 'Huawei', '319990.0', '484277', 'В продаже с 15.01.2021', '0 отзывов', 'Ноутбуки'),\n",
        "('Ноутбук Apple MacBook Pro 13 2020 Silver (MWP72)', 'Apple', '991990.0', '460440', 'Товар на витрине', '0 отзывов', 'Ноутбуки'),\n",
        "('Ноутбук Acer Nitro 5 AN515-44 R5165SGN (NH.Q9HER.00L)', 'DXRacer', '399990.0', '475488', 'Есть в наличии', '0 отзывов', 'Ноутбуки'),\n",
        "('Ноутбук Acer Aspire 3 A315-23G (NX.HVRER.00E)', 'Acer', '229990.0', '473394', 'Есть в наличии', '0 отзывов', 'Ноутбуки'),\n",
        "('Ноутбук Acer Swift 3 SF114-33 Silver (NX.HYSER.001)', 'Acer', '199990.0', '473390', 'Есть в наличии', '0 отзывов', 'Ноутбуки'),\n",
        "('Ноутбук Huawei MateBook D15 Bohrk-WAQ9BR', 'Huawei', '349990.0', '484278', 'В продаже с 15.01.2021', '0 отзывов', 'Ноутбуки'),\n",
        "('Ультрабук Acer Swift 3 SF314-57G I585SMW (NX.HUEER.002)', 'Acer', '359990.0', '473397', 'Есть в наличии', '0 отзывов', 'Ноутбуки'),\n",
        "('Ноутбук Asus ROG Zephyrus GU502L (90NR04F6-M02080)', 'Asus', '899990.0', '475529', 'Есть в наличии', '0 отзывов', 'Ноутбуки'),\n",
        "('Ноутбук Dell Latitude 3510 (210-AVLN)', 'Dell', '364990.0', '476146', 'Товар на витрине', '0 отзывов', 'Ноутбуки'),\n",
        "('Ноутбук HP Spectre x-360 13-aw0003ur (8PK89EA)', 'HP', '579990.0', '476142', 'Товар на витрине', '0 отзывов', 'Ноутбуки'),\n",
        "('Ноутбук Acer Aspire 3 A315-57G I341TMN (NX.HZRER.005)', 'Acer', '229990.0', '473395', 'Есть в наличии', '0 отзывов', 'Ноутбуки'),\n",
        "('Ноутбук Dell Vostro 5501 (210-AVNG-A)', 'Dell', '329990.0', '475708', 'Есть в наличии', '0 отзывов', 'Ноутбуки'),\n",
        "('Ультрабук Acer Swift 1 SF114-33 P41SUW (NX.HYNER.001)', 'Acer', '199990.0', '473398', 'Есть в наличии', '0 отзывов', 'Ноутбуки'),\n",
        "('Ноутбук Acer Swift 3 SF314-59 (NX.A0MER.002)', 'Acer', '349990.0', '473404', 'Есть в наличии', '0 отзывов', 'Ноутбуки'),\n",
        "('Ультрабук Dell Inspiron 5401 I585SMW 210-AVOM', 'Dell', '399990.0', '475710', 'Есть в наличии', '0 отзывов', 'Ноутбуки'),\n",
        "('Ультрабук Dell Inspiron 5401 I585SUN 210-AVOM-A1', 'Dell', '337990.0', '475712', 'Есть в наличии', '0 отзывов', 'Ноутбуки'),\n",
        "('Ультрабук Acer Swift 1 SF114-33 P42SUW (NX.HYNER.002)', 'Acer', '214990.0', '473399', 'Есть в наличии', '0 отзывов', 'Ноутбуки'),\n",
        "('Ноутбук Asus ZenBook S UX393E (90NB0S71-M00620)', 'Asus', '639990.0', '483820', 'Есть в наличии', '0 отзывов', 'Ноутбуки'),\n",
        "('Ноутбук Dell Vostro 5401 (210-AVNJ)', 'Dell', '333990.0', '475707', 'Есть в наличии', '0 отзывов', 'Ноутбуки'),\n",
        "('Ноутбук Acer Predator Triton 300 PT315-52 I5165SGN (NH.Q7CER.00B)', 'Acer', '499990.0', '475492', 'Есть в наличии', '0 отзывов', 'Ноутбуки'),\n",
        "('Ноутбук Asus Laptops 15 D509 (90NB0P52-M05810)', 'Asus', '159990.0', '483614', 'Есть в наличии', '0 отзывов', 'Ноутбуки'),\n",
        "('Ноутбук Asus TUF Gaming FX506L (90NR03T1-M04130)', 'Asus', '389990.0', '475534', 'Есть в наличии', '0 отзывов', 'Ноутбуки'),\n",
        "('Ноутбук Dell Inspiron 5401 (210-AVOM-A5)', 'Dell', '374990.0', '475724', 'Товар на витрине', '0 отзывов', 'Ноутбуки'),\n",
        "('Ноутбук HP Elitebook 830 G7 (176Z0EA)', 'HP', '602990.0', '476140', 'Товар на витрине', '0 отзывов', 'Ноутбуки'),\n",
        "('Ноутбук Dell Vostro 5401 (210-AVNJ-A1)', 'Dell', '387990.0', '475727', 'Есть в наличии', '0 отзывов', 'Ноутбуки'),\n",
        "('Ноутбук Acer Nitro 5 AN515-55 I5165SGN (NH.Q7PER.006)', 'DXRacer', '429990.0', '475490', 'Есть в наличии', '0 отзывов', 'Ноутбуки'),\n",
        "('Ультрабук Acer Swift 1 SF114-32 (NX.GXUER.00E)', 'Acer', '184990.0', '475493', 'Есть в наличии', '0 отзывов', 'Ноутбуки'),\n",
        "('Ноутбук HP Elitebook 830 G7 (176Z1EA)', 'HP', '526990.0', '476139', 'Товар на витрине', '0 отзывов', 'Ноутбуки'),\n",
        "('Ультрабук HP EliteBook 840 G6 I582SUW (6XD76EA)', 'HP', '501990.0', '476144', 'Товар на витрине', '0 отзывов', 'Ноутбуки'),\n",
        "('Ультрабук HP EliteBook 840 G6 I585SMW (8MJ69EA)', 'HP', '607990.0', '476143', 'Товар на витрине', '0 отзывов', 'Ноутбуки'),\n",
        "('Ноутбук Dell Latitude 3300 (210-AREL)', 'Dell', '396990.0', '475725', 'Товар на витрине', '0 отзывов', 'Ноутбуки'),\n",
        "('Ноутбук Acer Aspire 7 A715-75G (NH.Q9AER.005)', 'Acer', '369990.0', '475486', 'Есть в наличии', '0 отзывов', 'Ноутбуки'),\n",
        "('Ноутбук Lenovo V14-IGL (82C2000YRU)', 'Lenovo', '169990.0', '484650', 'Есть в наличии', '0 отзывов', 'Ноутбуки'),\n",
        "('Ультрабук Lenovo IdeaPad 5 14IIL05 (81YH00NYRK)', 'Lenovo', '289990.0', '473369', 'Есть в наличии', '0 отзывов', 'Ноутбуки'),\n",
        "('Ноутбук Lenovo IdeaPad 3 I581TMW 81WE00Q8RK', 'Lenovo', '269990.0', '463072', 'Есть в наличии', '0 отзывов', 'Ноутбуки'),\n",
        "('Ноутбук Lenovo Legion7 15IMH05 (81YT0067RK)', 'Lenovo', '779990.0', '473376', 'Есть в наличии', '0 отзывов', 'Ноутбуки') ]\n"
      ]
    },
    {
      "cell_type": "code",
      "execution_count": null,
      "metadata": {
        "id": "AauNLNO0IFzq"
      },
      "outputs": [],
      "source": [
        "# for i loop:\n",
        "# for a in dataset:\n",
        "#    data = pd.DataFrame({ 'name': [a[0]],\n",
        "#        'brand': [a[1]],\n",
        "#        'price': [a[2]],\n",
        "#        'code': [a[3]],\n",
        "#        'available':[a[4]],\n",
        "#        'coments': [a[5]],\n",
        "#        'lists': [a[6]]})"
      ]
    },
    {
      "cell_type": "markdown",
      "metadata": {
        "id": "kPQS9RlWIFzr"
      },
      "source": [
        "## ✤ Now, I have a ready scrapped data from website."
      ]
    },
    {
      "cell_type": "markdown",
      "metadata": {
        "id": "G7aYSK4SIFzr"
      },
      "source": [
        "✤ Let's make a Dataframe, simply table to my scrapped dataset."
      ]
    },
    {
      "cell_type": "code",
      "execution_count": null,
      "metadata": {
        "id": "nBA8Rr9MIFzr"
      },
      "outputs": [],
      "source": [
        "# here, columns arrays 0 position takes,\n",
        "# and rows take place from 1 position:\n",
        "datasets = pd.DataFrame(datasets[1:], columns=datasets[0])"
      ]
    },
    {
      "cell_type": "markdown",
      "metadata": {
        "id": "dnd_zTKRIFzs"
      },
      "source": [
        "**✤ I also can save my dataset as in \"CSV'-file, with UTF-8 encoding:**"
      ]
    },
    {
      "cell_type": "code",
      "execution_count": null,
      "metadata": {
        "id": "21jw0dNgIFzs"
      },
      "outputs": [],
      "source": [
        "datasets.to_csv(r'C:\\Users\\клиент\\Desktop\\3.Info Retriev & Data M\\3. Week-3\\laptops2020.csv', sep=',', encoding='utf-8-sig',index = False )"
      ]
    },
    {
      "cell_type": "markdown",
      "metadata": {
        "id": "hVHn-mVDIFzt"
      },
      "source": [
        "✤ To begin, I want to display the first 5 rows, just to be sure that everything is correctly saved in my dataset:"
      ]
    },
    {
      "cell_type": "code",
      "execution_count": null,
      "metadata": {
        "id": "jvP0T7guIFzt",
        "outputId": "d5f68c9b-8dfc-4973-f7da-b1e840e834c0"
      },
      "outputs": [
        {
          "data": {
            "text/html": [
              "<div>\n",
              "<style scoped>\n",
              "    .dataframe tbody tr th:only-of-type {\n",
              "        vertical-align: middle;\n",
              "    }\n",
              "\n",
              "    .dataframe tbody tr th {\n",
              "        vertical-align: top;\n",
              "    }\n",
              "\n",
              "    .dataframe thead th {\n",
              "        text-align: right;\n",
              "    }\n",
              "</style>\n",
              "<table border=\"1\" class=\"dataframe\">\n",
              "  <thead>\n",
              "    <tr style=\"text-align: right;\">\n",
              "      <th></th>\n",
              "      <th>name</th>\n",
              "      <th>brand</th>\n",
              "      <th>price</th>\n",
              "      <th>code</th>\n",
              "      <th>available</th>\n",
              "      <th>coments</th>\n",
              "      <th>lists</th>\n",
              "    </tr>\n",
              "  </thead>\n",
              "  <tbody>\n",
              "    <tr>\n",
              "      <th>0</th>\n",
              "      <td>Ноутбук Acer Nitro 5 AN515-55-50CH (NH.Q7MER.005)</td>\n",
              "      <td>Acer</td>\n",
              "      <td>379990.0</td>\n",
              "      <td>462684</td>\n",
              "      <td>Есть в наличии</td>\n",
              "      <td>6 отзывов</td>\n",
              "      <td>Ноутбуки</td>\n",
              "    </tr>\n",
              "    <tr>\n",
              "      <th>1</th>\n",
              "      <td>Ультрабук Acer Swift 1 SF114-32-C6XS (NX.GXVER...</td>\n",
              "      <td>Acer</td>\n",
              "      <td>184990.0</td>\n",
              "      <td>308826</td>\n",
              "      <td>Есть в наличии</td>\n",
              "      <td>4 отзывов</td>\n",
              "      <td>Ноутбуки</td>\n",
              "    </tr>\n",
              "    <tr>\n",
              "      <th>2</th>\n",
              "      <td>Ноутбук Acer Aspire 3 A315-56 I341TUN (NX.HS5E...</td>\n",
              "      <td>Acer</td>\n",
              "      <td>189990.0</td>\n",
              "      <td>473386</td>\n",
              "      <td>Есть в наличии</td>\n",
              "      <td>1 отзывов</td>\n",
              "      <td>Ноутбуки</td>\n",
              "    </tr>\n",
              "    <tr>\n",
              "      <th>3</th>\n",
              "      <td>Ноутбук Lenovo IdeaPad Gaming 3 I781T1SGN (81Y...</td>\n",
              "      <td>Lenovo</td>\n",
              "      <td>409990.0</td>\n",
              "      <td>463064</td>\n",
              "      <td>Есть в наличии</td>\n",
              "      <td>4 отзывов</td>\n",
              "      <td>Ноутбуки</td>\n",
              "    </tr>\n",
              "    <tr>\n",
              "      <th>4</th>\n",
              "      <td>Ноутбук Acer Aspire 7 Gaming  A715-75G-701Q (N...</td>\n",
              "      <td>Acer</td>\n",
              "      <td>439990.0</td>\n",
              "      <td>462675</td>\n",
              "      <td>Есть в наличии</td>\n",
              "      <td>3 отзывов</td>\n",
              "      <td>Ноутбуки</td>\n",
              "    </tr>\n",
              "  </tbody>\n",
              "</table>\n",
              "</div>"
            ],
            "text/plain": [
              "                                                name   brand     price  \\\n",
              "0  Ноутбук Acer Nitro 5 AN515-55-50CH (NH.Q7MER.005)    Acer  379990.0   \n",
              "1  Ультрабук Acer Swift 1 SF114-32-C6XS (NX.GXVER...    Acer  184990.0   \n",
              "2  Ноутбук Acer Aspire 3 A315-56 I341TUN (NX.HS5E...    Acer  189990.0   \n",
              "3  Ноутбук Lenovo IdeaPad Gaming 3 I781T1SGN (81Y...  Lenovo  409990.0   \n",
              "4  Ноутбук Acer Aspire 7 Gaming  A715-75G-701Q (N...    Acer  439990.0   \n",
              "\n",
              "     code       available    coments     lists  \n",
              "0  462684  Есть в наличии  6 отзывов  Ноутбуки  \n",
              "1  308826  Есть в наличии  4 отзывов  Ноутбуки  \n",
              "2  473386  Есть в наличии  1 отзывов  Ноутбуки  \n",
              "3  463064  Есть в наличии  4 отзывов  Ноутбуки  \n",
              "4  462675  Есть в наличии  3 отзывов  Ноутбуки  "
            ]
          },
          "execution_count": 80,
          "metadata": {},
          "output_type": "execute_result"
        }
      ],
      "source": [
        "# head() function ->shows first 5 rows of data:\n",
        "datasets.head()"
      ]
    },
    {
      "cell_type": "code",
      "execution_count": null,
      "metadata": {
        "id": "ToY0nG9-IFzu",
        "outputId": "d895dbd4-dbee-4985-a5f2-09e972510a8d"
      },
      "outputs": [
        {
          "data": {
            "text/html": [
              "<div>\n",
              "<style scoped>\n",
              "    .dataframe tbody tr th:only-of-type {\n",
              "        vertical-align: middle;\n",
              "    }\n",
              "\n",
              "    .dataframe tbody tr th {\n",
              "        vertical-align: top;\n",
              "    }\n",
              "\n",
              "    .dataframe thead th {\n",
              "        text-align: right;\n",
              "    }\n",
              "</style>\n",
              "<table border=\"1\" class=\"dataframe\">\n",
              "  <thead>\n",
              "    <tr style=\"text-align: right;\">\n",
              "      <th></th>\n",
              "      <th>name</th>\n",
              "      <th>brand</th>\n",
              "      <th>price</th>\n",
              "      <th>code</th>\n",
              "      <th>available</th>\n",
              "      <th>coments</th>\n",
              "      <th>lists</th>\n",
              "    </tr>\n",
              "  </thead>\n",
              "  <tbody>\n",
              "    <tr>\n",
              "      <th>116</th>\n",
              "      <td>Ноутбук Acer Aspire 7 A715-75G (NH.Q9AER.005)</td>\n",
              "      <td>Acer</td>\n",
              "      <td>369990.0</td>\n",
              "      <td>475486</td>\n",
              "      <td>Есть в наличии</td>\n",
              "      <td>0 отзывов</td>\n",
              "      <td>Ноутбуки</td>\n",
              "    </tr>\n",
              "    <tr>\n",
              "      <th>117</th>\n",
              "      <td>Ноутбук Lenovo V14-IGL (82C2000YRU)</td>\n",
              "      <td>Lenovo</td>\n",
              "      <td>169990.0</td>\n",
              "      <td>484650</td>\n",
              "      <td>Есть в наличии</td>\n",
              "      <td>0 отзывов</td>\n",
              "      <td>Ноутбуки</td>\n",
              "    </tr>\n",
              "    <tr>\n",
              "      <th>118</th>\n",
              "      <td>Ультрабук Lenovo IdeaPad 5 14IIL05 (81YH00NYRK)</td>\n",
              "      <td>Lenovo</td>\n",
              "      <td>289990.0</td>\n",
              "      <td>473369</td>\n",
              "      <td>Есть в наличии</td>\n",
              "      <td>0 отзывов</td>\n",
              "      <td>Ноутбуки</td>\n",
              "    </tr>\n",
              "    <tr>\n",
              "      <th>119</th>\n",
              "      <td>Ноутбук Lenovo IdeaPad 3 I581TMW 81WE00Q8RK</td>\n",
              "      <td>Lenovo</td>\n",
              "      <td>269990.0</td>\n",
              "      <td>463072</td>\n",
              "      <td>Есть в наличии</td>\n",
              "      <td>0 отзывов</td>\n",
              "      <td>Ноутбуки</td>\n",
              "    </tr>\n",
              "    <tr>\n",
              "      <th>120</th>\n",
              "      <td>Ноутбук Lenovo Legion7 15IMH05 (81YT0067RK)</td>\n",
              "      <td>Lenovo</td>\n",
              "      <td>779990.0</td>\n",
              "      <td>473376</td>\n",
              "      <td>Есть в наличии</td>\n",
              "      <td>0 отзывов</td>\n",
              "      <td>Ноутбуки</td>\n",
              "    </tr>\n",
              "  </tbody>\n",
              "</table>\n",
              "</div>"
            ],
            "text/plain": [
              "                                                name   brand     price  \\\n",
              "116    Ноутбук Acer Aspire 7 A715-75G (NH.Q9AER.005)    Acer  369990.0   \n",
              "117              Ноутбук Lenovo V14-IGL (82C2000YRU)  Lenovo  169990.0   \n",
              "118  Ультрабук Lenovo IdeaPad 5 14IIL05 (81YH00NYRK)  Lenovo  289990.0   \n",
              "119      Ноутбук Lenovo IdeaPad 3 I581TMW 81WE00Q8RK  Lenovo  269990.0   \n",
              "120      Ноутбук Lenovo Legion7 15IMH05 (81YT0067RK)  Lenovo  779990.0   \n",
              "\n",
              "       code       available    coments     lists  \n",
              "116  475486  Есть в наличии  0 отзывов  Ноутбуки  \n",
              "117  484650  Есть в наличии  0 отзывов  Ноутбуки  \n",
              "118  473369  Есть в наличии  0 отзывов  Ноутбуки  \n",
              "119  463072  Есть в наличии  0 отзывов  Ноутбуки  \n",
              "120  473376  Есть в наличии  0 отзывов  Ноутбуки  "
            ]
          },
          "execution_count": 85,
          "metadata": {},
          "output_type": "execute_result"
        }
      ],
      "source": [
        "# tail() function ->shows last 5 rows of data:\n",
        "datasets.tail()"
      ]
    },
    {
      "cell_type": "markdown",
      "metadata": {
        "id": "ViHvt0hSIFzu"
      },
      "source": [
        "✤Moreover, we can see how much rows and columns, I scrapped from the website. \n",
        "+ As we can see, 120 values and 7 columns:"
      ]
    },
    {
      "cell_type": "code",
      "execution_count": null,
      "metadata": {
        "id": "MCCFj8ovIFzu",
        "outputId": "4c6f3c93-c9be-42ce-a186-c54d2a5e4265"
      },
      "outputs": [
        {
          "data": {
            "text/plain": [
              "(121, 7)"
            ]
          },
          "execution_count": 84,
          "metadata": {},
          "output_type": "execute_result"
        }
      ],
      "source": [
        "# with shape function, # of rows:\n",
        "datasets.shape"
      ]
    },
    {
      "cell_type": "markdown",
      "metadata": {
        "id": "1_ghk3kYIFzv"
      },
      "source": [
        "✤ In addition, I can check the general description of the dataset:"
      ]
    },
    {
      "cell_type": "code",
      "execution_count": null,
      "metadata": {
        "id": "4gt4vl5cIFzv"
      },
      "outputs": [],
      "source": [
        "\n",
        "datasets['price'] = datasets.price.astype(float)\n",
        "\n",
        "datasets['code'] = datasets.code.astype(int)\n",
        "#datasets['price']= pd.to_numeric(datasets['price'],errors='coerce')"
      ]
    },
    {
      "cell_type": "code",
      "execution_count": null,
      "metadata": {
        "id": "4857gvpFIFzv",
        "outputId": "da7aa4df-24ff-45bc-cc76-7dfa7d559c2f"
      },
      "outputs": [
        {
          "data": {
            "text/plain": [
              "name          object\n",
              "brand         object\n",
              "price        float64\n",
              "code           int32\n",
              "available     object\n",
              "coments       object\n",
              "lists         object\n",
              "dtype: object"
            ]
          },
          "execution_count": 97,
          "metadata": {},
          "output_type": "execute_result"
        }
      ],
      "source": [
        "datasets.dtypes"
      ]
    },
    {
      "cell_type": "code",
      "execution_count": null,
      "metadata": {
        "id": "10y0w6ehIFzw",
        "outputId": "485f1924-05ef-4a7d-d9f3-b84288d787e5"
      },
      "outputs": [
        {
          "data": {
            "text/plain": [
              "count    1.210000e+02\n",
              "mean     4.706396e+05\n",
              "std      3.205993e+05\n",
              "min      1.599900e+05\n",
              "25%      2.499900e+05\n",
              "50%      3.749900e+05\n",
              "75%      5.999900e+05\n",
              "max      1.799990e+06\n",
              "Name: price, dtype: float64"
            ]
          },
          "execution_count": 98,
          "metadata": {},
          "output_type": "execute_result"
        }
      ],
      "source": [
        "datasets['price'].describe()"
      ]
    },
    {
      "cell_type": "markdown",
      "metadata": {
        "id": "cFFCNV_SIFzw"
      },
      "source": [
        "### ✤ Here, I will make statictical analysis. (Mean,mide,median, Variance, st deviation. range,IQR )"
      ]
    },
    {
      "cell_type": "markdown",
      "metadata": {
        "id": "uZc4UbSIIFzw"
      },
      "source": [
        "#finding  by using \"statistics\" library"
      ]
    },
    {
      "cell_type": "code",
      "execution_count": null,
      "metadata": {
        "id": "ngvYoKAdIFzw"
      },
      "outputs": [],
      "source": [
        "# by using \"statistics\" library\n",
        "import statistics as st"
      ]
    },
    {
      "cell_type": "markdown",
      "metadata": {
        "id": "UT6s5qAxIFzx"
      },
      "source": [
        "### ✤ Finding a Mean of Price:"
      ]
    },
    {
      "cell_type": "code",
      "execution_count": null,
      "metadata": {
        "id": "qE5zAIT4IFzx",
        "outputId": "4c927cc9-61b8-46cc-f5a6-ca9e5d42d72c"
      },
      "outputs": [
        {
          "name": "stdout",
          "output_type": "stream",
          "text": [
            "The Mean is  470639.5867768595\n"
          ]
        }
      ],
      "source": [
        "# Using of Mean() functions:\n",
        "mean = st.mean(datasets['price'])\n",
        "print(\"The Mean is \", mean)"
      ]
    },
    {
      "cell_type": "markdown",
      "metadata": {
        "id": "16Y3AqpgIFzx"
      },
      "source": [
        "### ✤ Finding a Median of Price:"
      ]
    },
    {
      "cell_type": "code",
      "execution_count": null,
      "metadata": {
        "id": "5BhWJhwoIFzx",
        "outputId": "807c84d4-634a-4ad3-eee9-522574604f15"
      },
      "outputs": [
        {
          "name": "stdout",
          "output_type": "stream",
          "text": [
            "The Median is  374990.0\n"
          ]
        }
      ],
      "source": [
        "# usage of Median() functions:\n",
        "median = st.median(datasets['price'])\n",
        "print(\"The Median is \", median)"
      ]
    },
    {
      "cell_type": "markdown",
      "metadata": {
        "id": "05AYbvFkIFzy"
      },
      "source": [
        "### ✤ Finding a Mode of Price:"
      ]
    },
    {
      "cell_type": "code",
      "execution_count": null,
      "metadata": {
        "id": "V-7mH2u6IFzy",
        "outputId": "67e1eac7-6bf9-4818-a8f9-7c93b0d78c69"
      },
      "outputs": [
        {
          "name": "stdout",
          "output_type": "stream",
          "text": [
            "The Mode is  199990.0\n"
          ]
        }
      ],
      "source": [
        "# uasge of mode() functions:\n",
        "mode = st.mode(datasets['price'])\n",
        "print(\"The Mode is \", mode)"
      ]
    },
    {
      "cell_type": "markdown",
      "metadata": {
        "id": "A3iEyhQgIFzy"
      },
      "source": [
        "### ✤ Finding the RANGE of Price:"
      ]
    },
    {
      "cell_type": "code",
      "execution_count": null,
      "metadata": {
        "id": "JB9Pof0iIFzz",
        "outputId": "e7ca13a3-b507-4197-9b2b-b469663bf511"
      },
      "outputs": [
        {
          "name": "stdout",
          "output_type": "stream",
          "text": [
            "The Max price is  1799990.0\n",
            "The Min price is  159990.0\n",
            "The RANGE bte prices is  1640000.0\n"
          ]
        }
      ],
      "source": [
        "# usage of min(),max() fucntions:\n",
        "max_ = datasets['price'].max()\n",
        "print(\"The Max price is \", max_)\n",
        "\n",
        "min_ = datasets['price'].min()\n",
        "print(\"The Min price is \", min_)\n",
        "\n",
        "range1 = max_ - min_\n",
        "print(\"The RANGE bte prices is \", range1)"
      ]
    },
    {
      "cell_type": "markdown",
      "metadata": {
        "id": "5hZfYSFyIF0A"
      },
      "source": [
        "### ✤ Finding a Variance of the Laptop's Price:"
      ]
    },
    {
      "cell_type": "code",
      "execution_count": null,
      "metadata": {
        "id": "5W-z72edIF0A",
        "outputId": "4091b716-ece0-4c84-cc56-3ffe78b7501a"
      },
      "outputs": [
        {
          "name": "stdout",
          "output_type": "stream",
          "text": [
            "The Variance is  102783903187.32782\n"
          ]
        }
      ],
      "source": [
        "#variance() function\n",
        "sigma2 = st.variance(datasets['price'])\n",
        "print(\"The Variance is \", sigma2)"
      ]
    },
    {
      "cell_type": "markdown",
      "metadata": {
        "id": "0rPob_pmIF0B"
      },
      "source": [
        "### ✤ Finding a Standard deviation of the Laptop's Price:"
      ]
    },
    {
      "cell_type": "code",
      "execution_count": null,
      "metadata": {
        "id": "-LV2PRVPIF0B",
        "outputId": "030c7660-d992-4469-e95f-fcf5585d1d63"
      },
      "outputs": [
        {
          "name": "stdout",
          "output_type": "stream",
          "text": [
            "Standard Deviation is :  319271.7485810137\n"
          ]
        }
      ],
      "source": [
        "import math\n",
        "# creating a function:\n",
        "def deviation(): \n",
        "    mean = sum(datasets['price']) / len(datasets['price'])   # mean\n",
        "    var  = sum(pow(x-mean,2) for x in datasets['price']) / len(datasets['price'])  # variance\n",
        "    std  = math.sqrt(var)  # standard deviation\n",
        "    return std\n",
        "\n",
        "# Calculating std with my function:\n",
        "print(\"Standard Deviation is : \",deviation())"
      ]
    },
    {
      "cell_type": "markdown",
      "metadata": {
        "id": "oQ3-iddSIF0B"
      },
      "source": [
        "##### Let's see, st.deviation with numpy function- std():"
      ]
    },
    {
      "cell_type": "code",
      "execution_count": null,
      "metadata": {
        "id": "2eL7_DcAIF0B",
        "outputId": "5e006e79-7fbd-4eb1-ad12-bdd29f310e10"
      },
      "outputs": [
        {
          "name": "stdout",
          "output_type": "stream",
          "text": [
            "The Standard deviation is  319271.7485810137\n"
          ]
        }
      ],
      "source": [
        "# std()\n",
        "sigma = np.std(datasets['price'])\n",
        "print(\"The Standard deviation is \", sigma)"
      ]
    },
    {
      "cell_type": "markdown",
      "metadata": {
        "id": "BmO3DfZTIF0C"
      },
      "source": [
        "## ✤ Let's plot some graphs, histograms and boxplots:"
      ]
    },
    {
      "cell_type": "markdown",
      "metadata": {
        "id": "6pAZ1_G1IF0C"
      },
      "source": [
        "+ SKEWNESS = 0, is  normally distributed.\n",
        "+ SKEWNESS > 0, POSITIVE,it is in the right side.\n",
        "+ SKEWNESS < 0, NEGATIVE, it is in the left side."
      ]
    },
    {
      "cell_type": "code",
      "execution_count": null,
      "metadata": {
        "id": "0TUSqH6LIF0C",
        "outputId": "d4530d07-82e0-4ee2-f37d-a06228c657c4"
      },
      "outputs": [
        {
          "data": {
            "text/plain": [
              "1.8836432888818746"
            ]
          },
          "execution_count": 116,
          "metadata": {},
          "output_type": "execute_result"
        }
      ],
      "source": [
        "datasets['price'].skew()"
      ]
    },
    {
      "cell_type": "markdown",
      "metadata": {
        "id": "FxQkoFM2IF0D"
      },
      "source": [
        "**So it is Positivly skewed.**"
      ]
    },
    {
      "cell_type": "code",
      "execution_count": null,
      "metadata": {
        "id": "-LzcRX3mIF0D",
        "outputId": "998d3d75-7416-469c-e436-c77a6a55cfdb"
      },
      "outputs": [
        {
          "data": {
            "image/png": "[encoded data removed]",
            "text/plain": [
              "<Figure size 432x288 with 1 Axes>"
            ]
          },
          "metadata": {
            "needs_background": "light"
          },
          "output_type": "display_data"
        }
      ],
      "source": [
        "#PLOTTING MY HISTOGRAM:\n",
        "\n",
        "plt.hist(datasets['price'], bins=10, color=\"purple\")\n",
        "plt.title(\"~ Histogram for Laptop Prices ~\",size=18)\n",
        "plt.xlabel(\"~Positive skewness~\",size=20)\n",
        "plt.show()"
      ]
    },
    {
      "cell_type": "markdown",
      "metadata": {
        "id": "LN3nAD0TIF0E"
      },
      "source": [
        "#### It was a little bit hard, but I understood how to scrap!))"
      ]
    }
  ],
  "metadata": {
    "kernelspec": {
      "display_name": "Python 3",
      "language": "python",
      "name": "python3"
    },
    "language_info": {
      "codemirror_mode": {
        "name": "ipython",
        "version": 3
      },
      "file_extension": ".py",
      "mimetype": "text/x-python",
      "name": "python",
      "nbconvert_exporter": "python",
      "pygments_lexer": "ipython3",
      "version": "3.8.5"
    },
    "colab": {
      "provenance": []
    }
  },
  "nbformat": 4,
  "nbformat_minor": 0
}