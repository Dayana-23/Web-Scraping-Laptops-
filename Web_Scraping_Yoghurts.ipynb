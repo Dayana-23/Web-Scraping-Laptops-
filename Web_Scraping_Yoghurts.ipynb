{
  "cells": [
    {
      "cell_type": "markdown",
      "metadata": {
        "id": "KJ1eSydIKDtl"
      },
      "source": [
        "## ✤ HW-4 is done by Dayana Kassenova - BDA-1903 group."
      ]
    },
    {
      "cell_type": "markdown",
      "metadata": {
        "id": "oh81HaIEKDto"
      },
      "source": [
        "### Task:\n",
        "From\n",
        "https://contentservice.kz/catalog/\n",
        "take all data with category:   \"Продукты питания, напитки\"\n",
        "The attributes: Category, Subcategory, Title, brend,  country, url of product, \n",
        "Example: \n",
        "\n",
        "+ •\tМолочные продукты и яйца\n",
        "+ •\tЙогурт\n",
        "+ •\tЙОГУРТ 2.5% МАЛИНА LE'VITAL ЭМИЛЬ СТ 2Х180Г , \n",
        "+ •\tТМ Эмиль\n",
        "+ •\tKZ\n",
        "+ •\thttps://contentservice.kz/product/4870005354639-kz-yogurt-emil-tvor-desert-s-malinoy-25-200gr-stak\n",
        "\n",
        "take a note: check  your code works sequentially and properly, and save to excel.\n",
        "+ •\tBonus: \n",
        "+ •\tParse all Data From the site. \n",
        "+ •\tAny statistics\n",
        "\n"
      ]
    },
    {
      "cell_type": "markdown",
      "metadata": {
        "id": "gLjQPj8_KDtp"
      },
      "source": [
        "### IMPORTING MUST-HAVE LIBRARIES FOR SCRAPPING:"
      ]
    },
    {
      "cell_type": "code",
      "execution_count": null,
      "metadata": {
        "id": "P597ijzVKDtq"
      },
      "outputs": [],
      "source": [
        "import requests\n",
        "from bs4 import BeautifulSoup"
      ]
    },
    {
      "cell_type": "code",
      "execution_count": null,
      "metadata": {
        "id": "FTCeFhlqKDtr"
      },
      "outputs": [],
      "source": [
        "import pandas as pd"
      ]
    },
    {
      "cell_type": "code",
      "execution_count": null,
      "metadata": {
        "id": "RRv4d18AKDts"
      },
      "outputs": [],
      "source": [
        "link = 'https://contentservice.kz/yogurt-1/'\n",
        "requestt = requests.get(link)"
      ]
    },
    {
      "cell_type": "code",
      "execution_count": null,
      "metadata": {
        "id": "Hfx3rhJxKDts",
        "outputId": "4f2a47bc-b0c6-4ec5-f684-f582de52466a"
      },
      "outputs": [
        {
          "name": "stdout",
          "output_type": "stream",
          "text": [
            "200\n"
          ]
        }
      ],
      "source": [
        "print(requestt.status_code) # Success! The page has loaded correctly"
      ]
    },
    {
      "cell_type": "markdown",
      "metadata": {
        "id": "aHaOptAmKDtt"
      },
      "source": [
        "### ✤ Selecting a links for my SubCategory - \"Yoghurts\":"
      ]
    },
    {
      "cell_type": "markdown",
      "metadata": {
        "id": "unE085xqKDtt"
      },
      "source": [
        "**✤ Here, I created a function, which will show us main pages of Subcategory:**"
      ]
    },
    {
      "cell_type": "code",
      "execution_count": null,
      "metadata": {
        "id": "gR6jz9cEKDtu"
      },
      "outputs": [],
      "source": [
        "def selectPageLink(link):\n",
        "    #importing libraries:\n",
        "    import pandas as pd\n",
        "    from bs4 import BeautifulSoup\n",
        "    import requests\n",
        "    # selecting \"ul\" with specific class:\n",
        "    requestt = requests.get(link)\n",
        "    soup = BeautifulSoup(requestt.content,'lxml')\n",
        "    ul = soup.find('ul', {'class' : 'pagination category-pagination'})\n",
        "    #creating a list , where willbe stored pages:\n",
        "    link_list = []\n",
        "    for i in range(0, len(ul.find_all('a', {'aria-label' : ''}))):\n",
        "        link_list.append('https://contentservice.kz' + ul.find_all('a', {'aria-label' : ''})[i]['href'])\n",
        "    return link_list"
      ]
    },
    {
      "cell_type": "markdown",
      "metadata": {
        "id": "8oXsbBYCKDtu"
      },
      "source": [
        "**✤ Now, I want to retrieve Links for my \"Yoghurts Subcategory\":**\n",
        "+ We can see that, there are only, 7 web pages are located in this category:"
      ]
    },
    {
      "cell_type": "code",
      "execution_count": null,
      "metadata": {
        "id": "T8ytMoQYKDtv",
        "outputId": "2e0d56d4-ec5a-47f7-8406-1674d3b79a2b"
      },
      "outputs": [
        {
          "data": {
            "text/plain": [
              "['https://contentservice.kz/yogurt-1/',\n",
              " 'https://contentservice.kz/yogurt-1/page2/',\n",
              " 'https://contentservice.kz/yogurt-1/page3/',\n",
              " 'https://contentservice.kz/yogurt-1/page4/',\n",
              " 'https://contentservice.kz/yogurt-1/page5/',\n",
              " 'https://contentservice.kz/yogurt-1/page6/',\n",
              " 'https://contentservice.kz/yogurt-1/page7/']"
            ]
          },
          "execution_count": 6,
          "metadata": {},
          "output_type": "execute_result"
        }
      ],
      "source": [
        "# using above function:\n",
        "selectPageLink(link)"
      ]
    },
    {
      "cell_type": "markdown",
      "metadata": {
        "id": "csXJ_faeKDtv"
      },
      "source": [
        "**✤ At this stage, I am going to create a function,which will return Each product's Link in 1 Webpage:**"
      ]
    },
    {
      "cell_type": "code",
      "execution_count": null,
      "metadata": {
        "id": "OafE51BIKDtw"
      },
      "outputs": [],
      "source": [
        "def selectEachProduct(link):\n",
        "    # again requesting to my lnk:\n",
        "    requestt = requests.get(link)\n",
        "    soup = BeautifulSoup(requestt.content,'lxml')\n",
        "    \n",
        "    # I select div, and search for product links:\n",
        "    div = soup.find('div', {'class' : 'catalog__grid-view'})\n",
        "    # creating a list , where will be stored pages:\n",
        "    link_list = []\n",
        "    # look through the loop, to all links:\n",
        "    \n",
        "    for i in range(0, len(div.find_all('a', {'class' : 'link-gray'}))):\n",
        "        link_list.append('https://contentservice.kz' + div.find_all('a', {'class' : 'link-gray'})[i]['href'])\n",
        "    return link_list"
      ]
    },
    {
      "cell_type": "markdown",
      "metadata": {
        "id": "3rcCiO86KDtw"
      },
      "source": [
        "**✤ As an example, Let's select links to each product, which is located in Fifth Page Link:**"
      ]
    },
    {
      "cell_type": "code",
      "execution_count": null,
      "metadata": {
        "id": "DmdTQGr1KDtw",
        "outputId": "4218052c-2127-4c93-b98b-fa766f71c943"
      },
      "outputs": [
        {
          "name": "stdout",
          "output_type": "stream",
          "text": [
            "24\n"
          ]
        }
      ],
      "source": [
        "print(len(selectEachProduct('https://contentservice.kz/yogurt-1/page5/')))"
      ]
    },
    {
      "cell_type": "code",
      "execution_count": null,
      "metadata": {
        "id": "WUOV6_86KDtx",
        "outputId": "9350b80e-f349-4a79-d2cd-def090024211"
      },
      "outputs": [
        {
          "data": {
            "text/plain": [
              "['https://contentservice.kz/product/4870206414064-kz-yogurt-bio-balans-imuno-klubnika-vitaminypribiotiki-310gr-pb',\n",
              " 'https://contentservice.kz/product/4870206414071-kz-yogurt-bio-balans-imuno-granat-vitaminypribiotiki-310gr-pb',\n",
              " 'https://contentservice.kz/product/4870206414149-kz-yogurt-pitevoy-danone-persikmarakuyya-25-270ml-pb',\n",
              " 'https://contentservice.kz/product/4870206414156-kz-yogurt-pitevoy-danone-klubnika-25-270ml-pb',\n",
              " 'https://contentservice.kz/product/4870206413012-kz-yogurt-pitevoy-danone-bio-balans-immuno-complex-granat-930ml-16-pb',\n",
              " 'https://contentservice.kz/product/4870206413258-kz-yogurt-pitevoy-danone-bio-balans-imuno-kompleks-malinashipovnik-930ml-pb',\n",
              " 'https://contentservice.kz/product/4870206413029-kz-yogurt-pitevoy-danone-bio-balans-immuno-complex-klubn-930ml-16-pb',\n",
              " 'https://contentservice.kz/product/4870207311850-kz-prostokvasha-foodmaster-bio-s-vanil-32-900ml-pb',\n",
              " 'https://contentservice.kz/product/4870207312888-kz-snezhok-foodmaster-sladkiy-2-900ml-flp',\n",
              " 'https://contentservice.kz/product/4870005890595-kz-yogurt-pitevoy-lactis-so-vkusom-klubn-25-09l-fp',\n",
              " 'https://contentservice.kz/product/4607025391753-kz-yogurt-agusha-zasypay-ka-yablgrusha-8mes-27-200gr-pb',\n",
              " 'https://contentservice.kz/product/4690228028960-kz-yogurt-agusha-zasypay-ka-zel-yablmelissa-8mes-27-200gr-pb',\n",
              " 'https://contentservice.kz/product/4690228024573-kz-napitok-pitevoy-imunele-for-kids-malinovyy-plombir-95ml100ml-pb',\n",
              " 'https://contentservice.kz/product/4600605024065-kz-napitok-pitevoy-danone-actimel-yagodnyy-miks-25-100ml-pb',\n",
              " 'https://contentservice.kz/product/4600605023396-kz-napitok-pitevoy-danone-actimel-klyukvamalinachabrec-100ml-pb',\n",
              " 'https://contentservice.kz/product/4600605021736-kz-napitok-pitevoy-danone-actimel-klubn-banan-det-100ml-pb',\n",
              " 'https://contentservice.kz/product/4606779764806-kz-yogurt-pitevoy-epica-simple-kivi-shpinat-12-290gr-pb',\n",
              " 'https://contentservice.kz/product/4606779782107-kz-yogurt-pitevoy-epica-simple-golubika-ovsyanye-hlopya-12-290gr-pb',\n",
              " 'https://contentservice.kz/product/4606779772108-kz-yogurt-pitevoy-epica-kivi-vinograd-25-290ml-pb',\n",
              " 'https://contentservice.kz/product/4606779772801-kz-yogurt-pitevoy-epica-kokos-vanil-36-290ml-pb',\n",
              " 'https://contentservice.kz/product/4606779767302-kz-kokteyl-mol-ehrmann-grand-cocktail-so-vkusom-solenaya-karamel-4-260ml-pb',\n",
              " 'https://contentservice.kz/product/4606779764400-kz-yogurt-pitevoy-epica-vishnyabanan-25-290ml-pb',\n",
              " 'https://contentservice.kz/product/4606779782206-kz-yogurt-pitevoy-epica-simple-zlaki-otrubi-semena-chia-12-260gr-pb',\n",
              " 'https://contentservice.kz/product/4606779772405-kz-yogurt-pitevoy-epica-klubn-marak-25-290ml-pb']"
            ]
          },
          "execution_count": 11,
          "metadata": {},
          "output_type": "execute_result"
        }
      ],
      "source": [
        "# by abpve function:\n",
        "selectEachProduct('https://contentservice.kz/yogurt-1/page5/')"
      ]
    },
    {
      "cell_type": "markdown",
      "metadata": {
        "id": "99_NNIUnKDtx"
      },
      "source": [
        "**✤ And Here, I using one of the links, in order to retrieve PRODUCT DETAILS:** "
      ]
    },
    {
      "cell_type": "code",
      "execution_count": null,
      "metadata": {
        "id": "KtvcF6JgKDty"
      },
      "outputs": [],
      "source": [
        "link =  'https://contentservice.kz/product/4870206414149-kz-yogurt-pitevoy-danone-persikmarakuyya-25-270ml-pb'\n",
        "requestt = requests.get(link)"
      ]
    },
    {
      "cell_type": "markdown",
      "metadata": {
        "id": "fufrQxaNKDty"
      },
      "source": [
        "**✤ Now, I am going to make a function, which will show Product Information:**"
      ]
    },
    {
      "cell_type": "code",
      "execution_count": null,
      "metadata": {
        "id": "jh9e-Dz4KDty"
      },
      "outputs": [],
      "source": [
        "def DetailsOfProduct(link):\n",
        "    \n",
        "    # again requesting to my lnk:\n",
        "    requestt = requests.get(link)\n",
        "    soup = BeautifulSoup(requestt.content,'lxml')\n",
        "    \n",
        "    details = []\n",
        "    # CATEGORY   choosing HTML ol and ul, and specific classes:\n",
        "    details.append(soup.find('ol', {'class' : 'breadcrumb'}).find_all('li')[2].get_text())\n",
        "    # SUBCATEGORY\n",
        "    details.append(soup.find('ol', {'class' : 'breadcrumb'}).find_all('li')[3].get_text())\n",
        "    # TITLE\n",
        "    details.append(soup.find('div', {'class' : 'col-lg-9 col-md-8 col-sm-12'}).find('h1').get_text().replace('\\n', '').strip())\n",
        "    # BRAND\n",
        "    details.append(soup.find('ul', {'class' : 'list-unstyled list-lg-pad'}).find('li').get_text())\n",
        "    # COUNTRY\n",
        "    details.append(soup.find('ul', {'class' : 'list-unstyled list-lg-pad'}).find('span')['title'])\n",
        "    # lINK\n",
        "    details.append(link)\n",
        "    return details"
      ]
    },
    {
      "cell_type": "markdown",
      "metadata": {
        "id": "p6jCyBTLKDtz"
      },
      "source": [
        "✤ Selecting all data about this product from the link:"
      ]
    },
    {
      "cell_type": "code",
      "execution_count": null,
      "metadata": {
        "id": "hD0pdSwhKDtz",
        "outputId": "eb3c8e08-e777-4cdd-dbae-2a3f1c8d84da"
      },
      "outputs": [
        {
          "data": {
            "text/plain": [
              "['Молочные продукты и яйца',\n",
              " 'Йогурт',\n",
              " 'Йогурт 2.5% питьевой Персик-Маракуйя Danone п/бут 270г',\n",
              " 'ТМ Danone',\n",
              " 'KZ',\n",
              " 'https://contentservice.kz/product/4870206414149-kz-yogurt-pitevoy-danone-persikmarakuyya-25-270ml-pb']"
            ]
          },
          "execution_count": 41,
          "metadata": {},
          "output_type": "execute_result"
        }
      ],
      "source": [
        "DetailsOfProduct('https://contentservice.kz/product/4870206414149-kz-yogurt-pitevoy-danone-persikmarakuyya-25-270ml-pb')"
      ]
    },
    {
      "cell_type": "markdown",
      "metadata": {
        "id": "PkubdJQaKDt0"
      },
      "source": [
        "**✤ To see all products for one specific link:**"
      ]
    },
    {
      "cell_type": "code",
      "execution_count": null,
      "metadata": {
        "id": "EImIB_NRKDt0"
      },
      "outputs": [],
      "source": [
        "def showProductForLink(link):\n",
        "    requestt = requests.get(link)\n",
        "    soup = BeautifulSoup(requestt.content,'lxml')\n",
        "    # an array(list)\n",
        "    array = []\n",
        "    for i in range(0, len(selectEachProduct(link))):\n",
        "        array.append(DetailsOfProduct(selectEachProduct(link)[i]))\n",
        "    return array"
      ]
    },
    {
      "cell_type": "markdown",
      "metadata": {
        "id": "VGBjIbF6KDt0"
      },
      "source": [
        "**✤ As an example, showing 24 products details in a list from 5th page link:** "
      ]
    },
    {
      "cell_type": "code",
      "execution_count": null,
      "metadata": {
        "id": "EMOb2pZcKDt1",
        "outputId": "b88e1f29-8402-49ce-c3f5-9082822645c8"
      },
      "outputs": [
        {
          "data": {
            "text/plain": [
              "[['Молочные продукты и яйца',\n",
              "  'Йогурт',\n",
              "  'Йогурт 1.2% обогащенный бифидобактериями и витаминами Клубника Имуно Био Баланс п/бут 310г',\n",
              "  'ТМ Био Баланс',\n",
              "  'KZ',\n",
              "  'https://contentservice.kz/product/4870206414064-kz-yogurt-bio-balans-imuno-klubnika-vitaminypribiotiki-310gr-pb'],\n",
              " ['Молочные продукты и яйца',\n",
              "  'Йогурт',\n",
              "  'ЙОГУРТ BIO БАЛАНС ИМУНО ГРАНАТ ВИТАМИНЫ+ПРИБИОТИКИ 310ГР П/Б',\n",
              "  'ТМ Био Баланс',\n",
              "  'KZ',\n",
              "  'https://contentservice.kz/product/4870206414071-kz-yogurt-bio-balans-imuno-granat-vitaminypribiotiki-310gr-pb'],\n",
              " ['Молочные продукты и яйца',\n",
              "  'Йогурт',\n",
              "  'Йогурт 2.5% питьевой Персик-Маракуйя Danone п/бут 270г',\n",
              "  'ТМ Danone',\n",
              "  'KZ',\n",
              "  'https://contentservice.kz/product/4870206414149-kz-yogurt-pitevoy-danone-persikmarakuyya-25-270ml-pb'],\n",
              " ['Молочные продукты и яйца',\n",
              "  'Йогурт',\n",
              "  'Йогурт 2.5% питьевой Клубника Danone п/бут 270г',\n",
              "  'ТМ Danone',\n",
              "  'KZ',\n",
              "  'https://contentservice.kz/product/4870206414156-kz-yogurt-pitevoy-danone-klubnika-25-270ml-pb'],\n",
              " ['Молочные продукты и яйца',\n",
              "  'Йогурт',\n",
              "  'Йогурт 1.2% обогащенный бифидобактериями и витаминами Гранат Имуно Био Баланс п/бут 900г',\n",
              "  'ТМ Био Баланс',\n",
              "  'KZ',\n",
              "  'https://contentservice.kz/product/4870206413012-kz-yogurt-pitevoy-danone-bio-balans-immuno-complex-granat-930ml-16-pb'],\n",
              " ['Молочные продукты и яйца',\n",
              "  'Йогурт',\n",
              "  'Йогурт 1.2% обогащенный бифидобактериями и витаминами Малина-Шиповник Имуно Био Баланс п/бут 900г',\n",
              "  'ТМ Био Баланс',\n",
              "  'KZ',\n",
              "  'https://contentservice.kz/product/4870206413258-kz-yogurt-pitevoy-danone-bio-balans-imuno-kompleks-malinashipovnik-930ml-pb'],\n",
              " ['Молочные продукты и яйца',\n",
              "  'Йогурт',\n",
              "  'Йогурт 1.2% обогащенный бифидобактериями и витаминами Клубника Имуно Био Баланс п/бут 900г',\n",
              "  'ТМ Био Баланс',\n",
              "  'KZ',\n",
              "  'https://contentservice.kz/product/4870206413029-kz-yogurt-pitevoy-danone-bio-balans-immuno-complex-klubn-930ml-16-pb'],\n",
              " ['Молочные продукты и яйца',\n",
              "  'Йогурт',\n",
              "  'Биойогурт 3.2% питьевой ванильный Био-С Имун+ Food Master п/бут 900г',\n",
              "  'ТМ Food Master',\n",
              "  'KZ',\n",
              "  'https://contentservice.kz/product/4870207311850-kz-prostokvasha-foodmaster-bio-s-vanil-32-900ml-pb'],\n",
              " ['Молочные продукты и яйца',\n",
              "  'Йогурт',\n",
              "  'Напиток кисломолочный 2% сладкий Снежок Food Master м/у 0.9л',\n",
              "  'ТМ Food Master',\n",
              "  'KZ',\n",
              "  'https://contentservice.kz/product/4870207312888-kz-snezhok-foodmaster-sladkiy-2-900ml-flp'],\n",
              " ['Молочные продукты и яйца',\n",
              "  'Йогурт',\n",
              "  'Йогурт 2.5% питьевой Lactis м/у 0.9л',\n",
              "  'ТМ No Brand',\n",
              "  'KZ',\n",
              "  'https://contentservice.kz/product/4870005890595-kz-yogurt-pitevoy-lactis-so-vkusom-klubn-25-09l-fp'],\n",
              " ['Молочные продукты и яйца',\n",
              "  'Йогурт',\n",
              "  'Йогурт 2.7% для детей от 8мес Яблоко-Груша Агуша п/бут 200г',\n",
              "  'ТМ Агуша',\n",
              "  'RU',\n",
              "  'https://contentservice.kz/product/4607025391753-kz-yogurt-agusha-zasypay-ka-yablgrusha-8mes-27-200gr-pb'],\n",
              " ['Молочные продукты и яйца',\n",
              "  'Йогурт',\n",
              "  'Йогурт 2.7% для детей от 8мес Зелёное яблоко-Мелисса Засыпай-ка Агуша п/бут 200г',\n",
              "  'ТМ Агуша',\n",
              "  'RU',\n",
              "  'https://contentservice.kz/product/4690228028960-kz-yogurt-agusha-zasypay-ka-zel-yablmelissa-8mes-27-200gr-pb'],\n",
              " ['Молочные продукты и яйца',\n",
              "  'Йогурт',\n",
              "  'Напиток кисломолочный 1.5% для детей от 3лет Малиновый пломбир Имунеле п/бут 100г',\n",
              "  'ТМ Имунеле',\n",
              "  'RU',\n",
              "  'https://contentservice.kz/product/4690228024573-kz-napitok-pitevoy-imunele-for-kids-malinovyy-plombir-95ml100ml-pb'],\n",
              " ['Молочные продукты и яйца',\n",
              "  'Йогурт',\n",
              "  'Продукт кисломолочный 2.5% Ягодный микс Actimel п/бут 100г',\n",
              "  'ТМ Actimel',\n",
              "  'RU',\n",
              "  'https://contentservice.kz/product/4600605024065-kz-napitok-pitevoy-danone-actimel-yagodnyy-miks-25-100ml-pb'],\n",
              " ['Молочные продукты и яйца',\n",
              "  'Йогурт',\n",
              "  'Продукт кисломолочный 2.5% Клюква-Малина-Чабрец Actimel п/бут 100г',\n",
              "  'ТМ Actimel',\n",
              "  'RU',\n",
              "  'https://contentservice.kz/product/4600605023396-kz-napitok-pitevoy-danone-actimel-klyukvamalinachabrec-100ml-pb'],\n",
              " ['Молочные продукты и яйца',\n",
              "  'Йогурт',\n",
              "  'Продукт кисломолочный 2.5% для детей от 3лет Клубнично-Банановый сюрприз Actimel п/бут 100г',\n",
              "  'ТМ Actimel',\n",
              "  'RU',\n",
              "  'https://contentservice.kz/product/4600605021736-kz-napitok-pitevoy-danone-actimel-klubn-banan-det-100ml-pb'],\n",
              " ['Молочные продукты и яйца',\n",
              "  'Йогурт',\n",
              "  'Йогурт 1.2% Киви-Шпинат Simple Epica п/бут 290г',\n",
              "  'ТМ Epica',\n",
              "  'RU',\n",
              "  'https://contentservice.kz/product/4606779764806-kz-yogurt-pitevoy-epica-simple-kivi-shpinat-12-290gr-pb'],\n",
              " ['Молочные продукты и яйца',\n",
              "  'Йогурт',\n",
              "  'Йогурт 1.2% Голубика-Овсяные хлопья Simple Epica п/бут 290г',\n",
              "  'ТМ Epica',\n",
              "  'RU',\n",
              "  'https://contentservice.kz/product/4606779782107-kz-yogurt-pitevoy-epica-simple-golubika-ovsyanye-hlopya-12-290gr-pb'],\n",
              " ['Молочные продукты и яйца',\n",
              "  'Йогурт',\n",
              "  'Йогурт 2.5% Киви-Виноград Epica п/бут 290г',\n",
              "  'ТМ Epica',\n",
              "  'RU',\n",
              "  'https://contentservice.kz/product/4606779772108-kz-yogurt-pitevoy-epica-kivi-vinograd-25-290ml-pb'],\n",
              " ['Молочные продукты и яйца',\n",
              "  'Йогурт',\n",
              "  'Йогурт 3.6% Кокос-Ваниль Epica п/бут 290г',\n",
              "  'ТМ Epica',\n",
              "  'RU',\n",
              "  'https://contentservice.kz/product/4606779772801-kz-yogurt-pitevoy-epica-kokos-vanil-36-290ml-pb'],\n",
              " ['Молочные продукты и яйца',\n",
              "  'Йогурт',\n",
              "  'Коктейль молочный 4% ультрапастеризованный Cоленая Карамель Grand Cocktail Ehrmann п/бут 260г',\n",
              "  'ТМ Ehrmann',\n",
              "  'RU',\n",
              "  'https://contentservice.kz/product/4606779767302-kz-kokteyl-mol-ehrmann-grand-cocktail-so-vkusom-solenaya-karamel-4-260ml-pb'],\n",
              " ['Молочные продукты и яйца',\n",
              "  'Йогурт',\n",
              "  'Йогурт 2.5% Вишня-Банан Epica п/бут 290г',\n",
              "  'ТМ Epica',\n",
              "  'RU',\n",
              "  'https://contentservice.kz/product/4606779764400-kz-yogurt-pitevoy-epica-vishnyabanan-25-290ml-pb'],\n",
              " ['Молочные продукты и яйца',\n",
              "  'Йогурт',\n",
              "  'Йогурт 1.2% Семена Чиа-Отруби-Злаки Simple Epica п/бут 290г',\n",
              "  'ТМ Epica',\n",
              "  'RU',\n",
              "  'https://contentservice.kz/product/4606779782206-kz-yogurt-pitevoy-epica-simple-zlaki-otrubi-semena-chia-12-260gr-pb'],\n",
              " ['Молочные продукты и яйца',\n",
              "  'Йогурт',\n",
              "  'Йогурт 2.5% Клубника-Маракуйя Epica п/бут 290г',\n",
              "  'ТМ Epica',\n",
              "  'RU',\n",
              "  'https://contentservice.kz/product/4606779772405-kz-yogurt-pitevoy-epica-klubn-marak-25-290ml-pb']]"
            ]
          },
          "execution_count": 43,
          "metadata": {},
          "output_type": "execute_result"
        }
      ],
      "source": [
        "showProductForLink('https://contentservice.kz/yogurt-1/page5/')"
      ]
    },
    {
      "cell_type": "code",
      "execution_count": null,
      "metadata": {
        "id": "mcbodo7iKDt1"
      },
      "outputs": [],
      "source": [
        "link = 'https://contentservice.kz/yogurt-1/'\n",
        "requestt = requests.get(link)"
      ]
    },
    {
      "cell_type": "markdown",
      "metadata": {
        "id": "AyOuGN4eKDt2"
      },
      "source": [
        "### let's scrap data into a table columns:"
      ]
    },
    {
      "cell_type": "code",
      "execution_count": null,
      "metadata": {
        "id": "cW40tEwDKDt2",
        "outputId": "f99b21a9-3f5d-4e73-f3c6-89c65fd1773d"
      },
      "outputs": [
        {
          "data": {
            "text/html": [
              "<div>\n",
              "<style scoped>\n",
              "    .dataframe tbody tr th:only-of-type {\n",
              "        vertical-align: middle;\n",
              "    }\n",
              "\n",
              "    .dataframe tbody tr th {\n",
              "        vertical-align: top;\n",
              "    }\n",
              "\n",
              "    .dataframe thead th {\n",
              "        text-align: right;\n",
              "    }\n",
              "</style>\n",
              "<table border=\"1\" class=\"dataframe\">\n",
              "  <thead>\n",
              "    <tr style=\"text-align: right;\">\n",
              "      <th></th>\n",
              "      <th>Category</th>\n",
              "      <th>SubCategory</th>\n",
              "      <th>Title</th>\n",
              "      <th>Brand</th>\n",
              "      <th>Country</th>\n",
              "      <th>Link</th>\n",
              "    </tr>\n",
              "  </thead>\n",
              "  <tbody>\n",
              "  </tbody>\n",
              "</table>\n",
              "</div>"
            ],
            "text/plain": [
              "Empty DataFrame\n",
              "Columns: [Category, SubCategory, Title, Brand, Country, Link]\n",
              "Index: []"
            ]
          },
          "execution_count": 45,
          "metadata": {},
          "output_type": "execute_result"
        }
      ],
      "source": [
        "dataset = pd.DataFrame(columns=[\"Category\", \"SubCategory\", \"Title\", \"Brand\", \"Country\", \"Link\"])\n",
        "dataset"
      ]
    },
    {
      "cell_type": "code",
      "execution_count": null,
      "metadata": {
        "id": "FYcyW0vqKDt3"
      },
      "outputs": [],
      "source": [
        "# count is 0, after it will increase by 1:\n",
        "count = 0\n",
        "for a in range(0, len(selectPageLink(link))):\n",
        "    \n",
        "    # go through the 2-dimensional array, with loop:\n",
        "    for b in range(0, len(selectEachProduct(selectPageLink(link)[a]))):\n",
        "        \n",
        "        # here, select each product details:\n",
        "        dataset.loc[count] = DetailsOfProduct(selectEachProduct(selectPageLink(link)[a])[b])\n",
        "        count = count + 1"
      ]
    },
    {
      "cell_type": "markdown",
      "metadata": {
        "id": "YEVFtHjnKDt3"
      },
      "source": [
        "### ✤ Finally, we  have our dataset with columns of Category, SubCategory, Title,Brand,Country,Link:"
      ]
    },
    {
      "cell_type": "code",
      "execution_count": null,
      "metadata": {
        "id": "M1oramrOKDt3",
        "outputId": "11954f30-e68b-40c7-de61-2e3641f592c4"
      },
      "outputs": [
        {
          "data": {
            "text/html": [
              "<div>\n",
              "<style scoped>\n",
              "    .dataframe tbody tr th:only-of-type {\n",
              "        vertical-align: middle;\n",
              "    }\n",
              "\n",
              "    .dataframe tbody tr th {\n",
              "        vertical-align: top;\n",
              "    }\n",
              "\n",
              "    .dataframe thead th {\n",
              "        text-align: right;\n",
              "    }\n",
              "</style>\n",
              "<table border=\"1\" class=\"dataframe\">\n",
              "  <thead>\n",
              "    <tr style=\"text-align: right;\">\n",
              "      <th></th>\n",
              "      <th>Category</th>\n",
              "      <th>SubCategory</th>\n",
              "      <th>Title</th>\n",
              "      <th>Brand</th>\n",
              "      <th>Country</th>\n",
              "      <th>Link</th>\n",
              "    </tr>\n",
              "  </thead>\n",
              "  <tbody>\n",
              "    <tr>\n",
              "      <th>0</th>\n",
              "      <td>Молочные продукты и яйца</td>\n",
              "      <td>Йогурт</td>\n",
              "      <td>Йогурт 2.5% из козьего молока Zeren ст 200мл</td>\n",
              "      <td>ТМ Zeren</td>\n",
              "      <td>KZ</td>\n",
              "      <td>https://contentservice.kz/product/710535169287...</td>\n",
              "    </tr>\n",
              "    <tr>\n",
              "      <th>1</th>\n",
              "      <td>Молочные продукты и яйца</td>\n",
              "      <td>Йогурт</td>\n",
              "      <td>Йогурт 4% из козьего молока Zeren п/бут 300мл</td>\n",
              "      <td>ТМ Zeren</td>\n",
              "      <td>KZ</td>\n",
              "      <td>https://contentservice.kz/product/710535169089...</td>\n",
              "    </tr>\n",
              "    <tr>\n",
              "      <th>2</th>\n",
              "      <td>Молочные продукты и яйца</td>\n",
              "      <td>Йогурт</td>\n",
              "      <td>Йогурт 4% из козьего молока Клубника Zeren п/б...</td>\n",
              "      <td>ТМ Zeren</td>\n",
              "      <td>KZ</td>\n",
              "      <td>https://contentservice.kz/product/710535169225...</td>\n",
              "    </tr>\n",
              "    <tr>\n",
              "      <th>3</th>\n",
              "      <td>Молочные продукты и яйца</td>\n",
              "      <td>Йогурт</td>\n",
              "      <td>Йогурт 3% Турецкий Kokshe ст 360г</td>\n",
              "      <td>ТМ Kokshe</td>\n",
              "      <td>KZ</td>\n",
              "      <td>https://contentservice.kz/product/487023543001...</td>\n",
              "    </tr>\n",
              "    <tr>\n",
              "      <th>4</th>\n",
              "      <td>Молочные продукты и яйца</td>\n",
              "      <td>Йогурт</td>\n",
              "      <td>Йогурт 1.5% Клубника-малина Nәtige т/п 450г</td>\n",
              "      <td>ТМ Nәtige</td>\n",
              "      <td>KZ</td>\n",
              "      <td>https://contentservice.kz/product/487000375130...</td>\n",
              "    </tr>\n",
              "    <tr>\n",
              "      <th>...</th>\n",
              "      <td>...</td>\n",
              "      <td>...</td>\n",
              "      <td>...</td>\n",
              "      <td>...</td>\n",
              "      <td>...</td>\n",
              "      <td>...</td>\n",
              "    </tr>\n",
              "    <tr>\n",
              "      <th>163</th>\n",
              "      <td>Молочные продукты и яйца</td>\n",
              "      <td>Йогурт</td>\n",
              "      <td>Пудинг 3.2% молочный ультрапастеризованный Шок...</td>\n",
              "      <td>ТМ Ehrmann</td>\n",
              "      <td>RU</td>\n",
              "      <td>https://contentservice.kz/product/460677960830...</td>\n",
              "    </tr>\n",
              "    <tr>\n",
              "      <th>164</th>\n",
              "      <td>Молочные продукты и яйца</td>\n",
              "      <td>Йогурт</td>\n",
              "      <td>Продукт йогуртный 0.3% пастеризованный Киви-кр...</td>\n",
              "      <td>ТМ Ehrmann</td>\n",
              "      <td>RU</td>\n",
              "      <td>https://contentservice.kz/product/460701427022...</td>\n",
              "    </tr>\n",
              "    <tr>\n",
              "      <th>165</th>\n",
              "      <td>Молочные продукты и яйца</td>\n",
              "      <td>Йогурт</td>\n",
              "      <td>Продукт йогуртный 7.5% пастеризованный Абрикос...</td>\n",
              "      <td>ТМ Ehrmann</td>\n",
              "      <td>RU</td>\n",
              "      <td>https://contentservice.kz/product/460701427009...</td>\n",
              "    </tr>\n",
              "    <tr>\n",
              "      <th>166</th>\n",
              "      <td>Молочные продукты и яйца</td>\n",
              "      <td>Йогурт</td>\n",
              "      <td>Продукт йогуртный 0.3% пастеризованный Вишня+Н...</td>\n",
              "      <td>ТМ Ehrmann</td>\n",
              "      <td>RU</td>\n",
              "      <td>https://contentservice.kz/product/460701427021...</td>\n",
              "    </tr>\n",
              "    <tr>\n",
              "      <th>167</th>\n",
              "      <td>Молочные продукты и яйца</td>\n",
              "      <td>Йогурт</td>\n",
              "      <td>Продукт йогуртный 5.1% Персик-Маракуйя Сливочн...</td>\n",
              "      <td>ТМ Чудо</td>\n",
              "      <td>RU</td>\n",
              "      <td>https://contentservice.kz/product/469022800836...</td>\n",
              "    </tr>\n",
              "  </tbody>\n",
              "</table>\n",
              "<p>168 rows × 6 columns</p>\n",
              "</div>"
            ],
            "text/plain": [
              "                     Category SubCategory  \\\n",
              "0    Молочные продукты и яйца      Йогурт   \n",
              "1    Молочные продукты и яйца      Йогурт   \n",
              "2    Молочные продукты и яйца      Йогурт   \n",
              "3    Молочные продукты и яйца      Йогурт   \n",
              "4    Молочные продукты и яйца      Йогурт   \n",
              "..                        ...         ...   \n",
              "163  Молочные продукты и яйца      Йогурт   \n",
              "164  Молочные продукты и яйца      Йогурт   \n",
              "165  Молочные продукты и яйца      Йогурт   \n",
              "166  Молочные продукты и яйца      Йогурт   \n",
              "167  Молочные продукты и яйца      Йогурт   \n",
              "\n",
              "                                                 Title       Brand Country  \\\n",
              "0         Йогурт 2.5% из козьего молока Zeren ст 200мл    ТМ Zeren      KZ   \n",
              "1        Йогурт 4% из козьего молока Zeren п/бут 300мл    ТМ Zeren      KZ   \n",
              "2    Йогурт 4% из козьего молока Клубника Zeren п/б...    ТМ Zeren      KZ   \n",
              "3                    Йогурт 3% Турецкий Kokshe ст 360г   ТМ Kokshe      KZ   \n",
              "4          Йогурт 1.5% Клубника-малина Nәtige т/п 450г   ТМ Nәtige      KZ   \n",
              "..                                                 ...         ...     ...   \n",
              "163  Пудинг 3.2% молочный ультрапастеризованный Шок...  ТМ Ehrmann      RU   \n",
              "164  Продукт йогуртный 0.3% пастеризованный Киви-кр...  ТМ Ehrmann      RU   \n",
              "165  Продукт йогуртный 7.5% пастеризованный Абрикос...  ТМ Ehrmann      RU   \n",
              "166  Продукт йогуртный 0.3% пастеризованный Вишня+Н...  ТМ Ehrmann      RU   \n",
              "167  Продукт йогуртный 5.1% Персик-Маракуйя Сливочн...     ТМ Чудо      RU   \n",
              "\n",
              "                                                  Link  \n",
              "0    https://contentservice.kz/product/710535169287...  \n",
              "1    https://contentservice.kz/product/710535169089...  \n",
              "2    https://contentservice.kz/product/710535169225...  \n",
              "3    https://contentservice.kz/product/487023543001...  \n",
              "4    https://contentservice.kz/product/487000375130...  \n",
              "..                                                 ...  \n",
              "163  https://contentservice.kz/product/460677960830...  \n",
              "164  https://contentservice.kz/product/460701427022...  \n",
              "165  https://contentservice.kz/product/460701427009...  \n",
              "166  https://contentservice.kz/product/460701427021...  \n",
              "167  https://contentservice.kz/product/469022800836...  \n",
              "\n",
              "[168 rows x 6 columns]"
            ]
          },
          "execution_count": 48,
          "metadata": {},
          "output_type": "execute_result"
        }
      ],
      "source": [
        "dataset"
      ]
    },
    {
      "cell_type": "markdown",
      "metadata": {
        "id": "EqvDkGNIKDt4"
      },
      "source": [
        "### ✤ Now, I can save my data into EXCEL FILE:"
      ]
    },
    {
      "cell_type": "code",
      "execution_count": null,
      "metadata": {
        "id": "iqHUI8XgKDt4"
      },
      "outputs": [],
      "source": [
        "dataset.to_excel(\"Yoghurts.xlsx\")"
      ]
    },
    {
      "cell_type": "markdown",
      "metadata": {
        "id": "Q1vp80itKDt4"
      },
      "source": [
        "### ✤ Let's , make some analysis with my dataset from excel:"
      ]
    },
    {
      "cell_type": "code",
      "execution_count": null,
      "metadata": {
        "id": "-6NieuwSKDt4"
      },
      "outputs": [],
      "source": [
        "# Importing 'must-have' Libraries like these:\n",
        "import numpy as np  # to access data in any formats.\n",
        "import seaborn as sns # to make graphs,correlation\n",
        "import matplotlib.pyplot as plt # to plot\n",
        "import pandas as pd"
      ]
    },
    {
      "cell_type": "code",
      "execution_count": null,
      "metadata": {
        "id": "DJ4jthdaKDt5"
      },
      "outputs": [],
      "source": [
        "data = pd.read_excel(r'Yoghurts.xlsx')"
      ]
    },
    {
      "cell_type": "markdown",
      "metadata": {
        "id": "DSv6p31cKDt5"
      },
      "source": [
        "### ✤ I want to know, how many unique Countries:"
      ]
    },
    {
      "cell_type": "code",
      "execution_count": null,
      "metadata": {
        "id": "PESoO7QjKDuG",
        "outputId": "c1e8a56d-bdb2-47e4-b323-f7b64514c0b3"
      },
      "outputs": [
        {
          "data": {
            "text/plain": [
              "array(['KZ', 'RU', 'KG'], dtype=object)"
            ]
          },
          "execution_count": 52,
          "metadata": {},
          "output_type": "execute_result"
        }
      ],
      "source": [
        "data['Country'].unique()"
      ]
    },
    {
      "cell_type": "code",
      "execution_count": null,
      "metadata": {
        "id": "yS4m8TgEKDuH",
        "outputId": "f2e0a9ba-d9c9-4e83-c660-8f55bf6f9fd2"
      },
      "outputs": [
        {
          "data": {
            "image/png": "[encoded data removed]",
            "text/plain": [
              "<Figure size 504x504 with 1 Axes>"
            ]
          },
          "metadata": {},
          "output_type": "display_data"
        }
      ],
      "source": [
        "# showing graph by plotting it in form of \"pie-chart\"-> more interesting, colorful, specific size,\n",
        "# having legend,shadow, percentages, division by using 'explode() function':\n",
        "\n",
        "labels=data['Country'].value_counts().index\n",
        "# details about color:\n",
        "colors=['aqua','pink','yellow']\n",
        "# explode like division in a pizza:\n",
        "explode=[0.1, 0.1, 0.1]\n",
        "\n",
        "values=data['Country'].value_counts().values\n",
        "plt.figure(figsize=(7,7))\n",
        "# plotting a pie chart with properties:\n",
        "plt.pie(values,explode=explode,labels=labels,colors=colors,autopct='%1.1f%%',shadow=True)\n",
        "plt.title('Ratio of Countries of Product',color='black',fontsize=20)\n",
        "\n",
        "# executing:\n",
        "plt.show()"
      ]
    },
    {
      "cell_type": "markdown",
      "metadata": {
        "id": "tcQqMj73KDuI"
      },
      "source": [
        "### ✤ I want to know, how many unique BRANDS:"
      ]
    },
    {
      "cell_type": "code",
      "execution_count": null,
      "metadata": {
        "id": "Cjg8EpxAKDuI",
        "outputId": "96f343eb-6272-4236-fa04-3360f4000cb4"
      },
      "outputs": [
        {
          "data": {
            "text/plain": [
              "array(['ТМ Zeren', 'ТМ Kokshe', 'ТМ Nәtige', 'ТМ Активиа', 'ТМ Danone',\n",
              "       'ТМ Bio Max', 'ТМ Эмиль', 'ТМ Чудо', 'ТМ Epica', 'ТМ Ehrmann',\n",
              "       'ТМ Food Master', 'ТМ Растишка', 'ТМ Actimel', 'ТМ Campina',\n",
              "       'ТМ Услада', 'ТМ Даниссимо', 'ТМ Био Баланс', 'ТМ No Brand',\n",
              "       'ТМ Агуша', 'ТМ Имунеле', 'ТМ Актуаль', 'ТМ Amiran'], dtype=object)"
            ]
          },
          "execution_count": 54,
          "metadata": {},
          "output_type": "execute_result"
        }
      ],
      "source": [
        "data['Brand'].unique()"
      ]
    },
    {
      "cell_type": "code",
      "execution_count": null,
      "metadata": {
        "id": "I1zM0hfhKDuI",
        "outputId": "0108c472-ecc7-4b43-bf55-779ed04a9af5"
      },
      "outputs": [
        {
          "data": {
            "text/plain": [
              "22"
            ]
          },
          "execution_count": 60,
          "metadata": {},
          "output_type": "execute_result"
        }
      ],
      "source": [
        "len(data['Brand'].unique())"
      ]
    },
    {
      "cell_type": "code",
      "execution_count": null,
      "metadata": {
        "id": "5pGWienfKDuJ",
        "outputId": "ce8ee47c-8aa0-4515-d53e-ab48d63f2efb"
      },
      "outputs": [
        {
          "name": "stdout",
          "output_type": "stream",
          "text": [
            "ТМ Чудо           22\n",
            "ТМ Epica          20\n",
            "ТМ Активиа        17\n",
            "ТМ Ehrmann        17\n",
            "ТМ Food Master    16\n",
            "ТМ Campina        16\n",
            "ТМ Эмиль          11\n",
            "ТМ Bio Max         8\n",
            "ТМ Actimel         7\n",
            "ТМ Растишка        6\n",
            "ТМ Danone          5\n",
            "ТМ Био Баланс      5\n",
            "ТМ Zeren           3\n",
            "ТМ Имунеле         3\n",
            "ТМ Даниссимо       2\n",
            "ТМ Nәtige          2\n",
            "ТМ Агуша           2\n",
            "ТМ Услада          2\n",
            "ТМ Актуаль         1\n",
            "ТМ No Brand        1\n",
            "ТМ Amiran          1\n",
            "ТМ Kokshe          1\n",
            "Name: Brand, dtype: int64\n"
          ]
        }
      ],
      "source": [
        "brands = data['Brand'].value_counts()\n",
        "print(brands)"
      ]
    },
    {
      "cell_type": "code",
      "execution_count": null,
      "metadata": {
        "id": "f2a5V0eNKDuJ",
        "outputId": "022879eb-0861-42d6-cd8d-d467378248d3"
      },
      "outputs": [
        {
          "name": "stderr",
          "output_type": "stream",
          "text": [
            "No handles with labels found to put in legend.\n"
          ]
        },
        {
          "data": {
            "text/plain": [
              "<matplotlib.legend.Legend at 0xb2b1730>"
            ]
          },
          "execution_count": 11,
          "metadata": {},
          "output_type": "execute_result"
        },
        {
          "data": {
            "image/png": "[encoded data removed]",
            "text/plain": [
              "<Figure size 504x504 with 1 Axes>"
            ]
          },
          "metadata": {
            "needs_background": "light"
          },
          "output_type": "display_data"
        }
      ],
      "source": [
        "# Plotting a Barplot:\n",
        "fig,ax = plt.subplots(figsize = (7,7))\n",
        "sns.countplot(x = data['Brand'])\n",
        "plt.title('The Barplot for Counting Brand Types',color='black', fontsize = 18)\n",
        "\n",
        "# rotating, so that labels will be suited:\n",
        "plt.xticks(rotation = 50)\n",
        "# plt.legend(fontsize=14)"
      ]
    },
    {
      "cell_type": "markdown",
      "metadata": {
        "id": "RSXAmpkKKDuK"
      },
      "source": [
        "# ✤  Conclusion\n",
        "\n",
        "###  ✤  As we can see from charts, there are Russian Products (61.9 %) and Kazakhstan (37.5 %) and least is Kyrgystan ( 0.6 %) Yoghurt Products.\n",
        "\n",
        "###  ✤ Mostly, we have product brands such as ТМ Чудо - 22, ТМ Epica   -  20, ТМ Активиа  - 17.\n",
        "\n",
        "###  ✤ At least, we have  not so much brands like ТМ Услада -2, ТМ Amiran-1, ТМ Kokshe - 1.\n",
        "\n",
        "### ✤ So, we see which product brands are more demanded, tasty and most favourite choose of People.\n",
        "\n",
        "###  ✤ As a result, we can scrap any data, by categories and brands. And make analysis on them."
      ]
    },
    {
      "cell_type": "code",
      "execution_count": null,
      "metadata": {
        "id": "BH7LeUKMKDuK"
      },
      "outputs": [],
      "source": []
    }
  ],
  "metadata": {
    "kernelspec": {
      "display_name": "Python 3",
      "language": "python",
      "name": "python3"
    },
    "language_info": {
      "codemirror_mode": {
        "name": "ipython",
        "version": 3
      },
      "file_extension": ".py",
      "mimetype": "text/x-python",
      "name": "python",
      "nbconvert_exporter": "python",
      "pygments_lexer": "ipython3",
      "version": "3.8.5"
    },
    "colab": {
      "provenance": []
    }
  },
  "nbformat": 4,
  "nbformat_minor": 0
}